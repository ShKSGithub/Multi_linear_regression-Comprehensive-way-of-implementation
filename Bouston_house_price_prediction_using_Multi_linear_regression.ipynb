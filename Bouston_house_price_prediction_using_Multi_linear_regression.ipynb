{
  "nbformat": 4,
  "nbformat_minor": 0,
  "metadata": {
    "colab": {
      "name": "Bouston house price prediction using Multi-linear regression.ipynb",
      "provenance": [],
      "collapsed_sections": [],
      "toc_visible": true,
      "authorship_tag": "ABX9TyOTE6qdBvBCiYMrz5Jgx5/Z",
      "include_colab_link": true
    },
    "kernelspec": {
      "name": "python3",
      "display_name": "Python 3"
    }
  },
  "cells": [
    {
      "cell_type": "markdown",
      "metadata": {
        "id": "view-in-github",
        "colab_type": "text"
      },
      "source": [
        "<a href=\"https://colab.research.google.com/github/ShKSGithub/Multi_linear_regression-Comprehensive-way-of-implementation/blob/main/Bouston_house_price_prediction_using_Multi_linear_regression.ipynb\" target=\"_parent\"><img src=\"https://colab.research.google.com/assets/colab-badge.svg\" alt=\"Open In Colab\"/></a>"
      ]
    },
    {
      "cell_type": "markdown",
      "metadata": {
        "id": "aO3NCXXklwdv"
      },
      "source": [
        "# **Bouston house price prediction using linear regression**"
      ]
    },
    {
      "cell_type": "markdown",
      "metadata": {
        "id": "RYEzxEDlrPpK"
      },
      "source": [
        "### **Import dependencies**"
      ]
    },
    {
      "cell_type": "code",
      "metadata": {
        "id": "v2p1U3xhRzzL"
      },
      "source": [
        "import pandas as pd\n",
        "import numpy as np\n",
        "import matplotlib.pyplot as plt\n",
        "import seaborn as sns\n",
        "from sklearn import linear_model\n",
        "from sklearn.model_selection import train_test_split\n",
        "from sklearn.metrics import mean_squared_error, r2_score\n",
        "from sklearn.preprocessing import StandardScaler\n",
        "from sklearn.preprocessing import Normalizer\n",
        "from sklearn.model_selection import cross_val_score\n",
        "from sklearn.model_selection import KFold"
      ],
      "execution_count": 99,
      "outputs": []
    },
    {
      "cell_type": "markdown",
      "metadata": {
        "id": "ZrIPjN9Yl4h9"
      },
      "source": [
        "### **Import Dataset**"
      ]
    },
    {
      "cell_type": "code",
      "metadata": {
        "colab": {
          "base_uri": "https://localhost:8080/"
        },
        "id": "7lk6-NTQTILM",
        "outputId": "64398e49-6ce0-420b-ca2b-ffe4dbaf7dc5"
      },
      "source": [
        "# Load the boston housing dataset from sklearn library\n",
        "from sklearn.datasets import load_boston\n",
        "boston_dataset = load_boston()\n",
        "\n",
        "# Keys of boston data set\n",
        "print('Boston dataset Keys:\\n',boston_dataset.keys())\n",
        "\n",
        "print('-'*100)\n",
        "\n",
        "# Features of boston dataset\n",
        "print('Boston dataset features names:\\n',boston_dataset.feature_names)\n",
        "\n",
        "print('-'*100)\n",
        "\n",
        "# Description of boston dataset\n",
        "print('Boston dataset description:\\n',boston_dataset.DESCR)\n",
        "\n",
        "print('-'*100)\n",
        "\n",
        "# Print dataset\n",
        "print('Boston dataset:\\n',boston_dataset)\n"
      ],
      "execution_count": 100,
      "outputs": [
        {
          "output_type": "stream",
          "text": [
            "Boston dataset Keys:\n",
            " dict_keys(['data', 'target', 'feature_names', 'DESCR', 'filename'])\n",
            "----------------------------------------------------------------------------------------------------\n",
            "Boston dataset features names:\n",
            " ['CRIM' 'ZN' 'INDUS' 'CHAS' 'NOX' 'RM' 'AGE' 'DIS' 'RAD' 'TAX' 'PTRATIO'\n",
            " 'B' 'LSTAT']\n",
            "----------------------------------------------------------------------------------------------------\n",
            "Boston dataset description:\n",
            " .. _boston_dataset:\n",
            "\n",
            "Boston house prices dataset\n",
            "---------------------------\n",
            "\n",
            "**Data Set Characteristics:**  \n",
            "\n",
            "    :Number of Instances: 506 \n",
            "\n",
            "    :Number of Attributes: 13 numeric/categorical predictive. Median Value (attribute 14) is usually the target.\n",
            "\n",
            "    :Attribute Information (in order):\n",
            "        - CRIM     per capita crime rate by town\n",
            "        - ZN       proportion of residential land zoned for lots over 25,000 sq.ft.\n",
            "        - INDUS    proportion of non-retail business acres per town\n",
            "        - CHAS     Charles River dummy variable (= 1 if tract bounds river; 0 otherwise)\n",
            "        - NOX      nitric oxides concentration (parts per 10 million)\n",
            "        - RM       average number of rooms per dwelling\n",
            "        - AGE      proportion of owner-occupied units built prior to 1940\n",
            "        - DIS      weighted distances to five Boston employment centres\n",
            "        - RAD      index of accessibility to radial highways\n",
            "        - TAX      full-value property-tax rate per $10,000\n",
            "        - PTRATIO  pupil-teacher ratio by town\n",
            "        - B        1000(Bk - 0.63)^2 where Bk is the proportion of blacks by town\n",
            "        - LSTAT    % lower status of the population\n",
            "        - MEDV     Median value of owner-occupied homes in $1000's\n",
            "\n",
            "    :Missing Attribute Values: None\n",
            "\n",
            "    :Creator: Harrison, D. and Rubinfeld, D.L.\n",
            "\n",
            "This is a copy of UCI ML housing dataset.\n",
            "https://archive.ics.uci.edu/ml/machine-learning-databases/housing/\n",
            "\n",
            "\n",
            "This dataset was taken from the StatLib library which is maintained at Carnegie Mellon University.\n",
            "\n",
            "The Boston house-price data of Harrison, D. and Rubinfeld, D.L. 'Hedonic\n",
            "prices and the demand for clean air', J. Environ. Economics & Management,\n",
            "vol.5, 81-102, 1978.   Used in Belsley, Kuh & Welsch, 'Regression diagnostics\n",
            "...', Wiley, 1980.   N.B. Various transformations are used in the table on\n",
            "pages 244-261 of the latter.\n",
            "\n",
            "The Boston house-price data has been used in many machine learning papers that address regression\n",
            "problems.   \n",
            "     \n",
            ".. topic:: References\n",
            "\n",
            "   - Belsley, Kuh & Welsch, 'Regression diagnostics: Identifying Influential Data and Sources of Collinearity', Wiley, 1980. 244-261.\n",
            "   - Quinlan,R. (1993). Combining Instance-Based and Model-Based Learning. In Proceedings on the Tenth International Conference of Machine Learning, 236-243, University of Massachusetts, Amherst. Morgan Kaufmann.\n",
            "\n",
            "----------------------------------------------------------------------------------------------------\n",
            "Boston dataset:\n",
            " {'data': array([[6.3200e-03, 1.8000e+01, 2.3100e+00, ..., 1.5300e+01, 3.9690e+02,\n",
            "        4.9800e+00],\n",
            "       [2.7310e-02, 0.0000e+00, 7.0700e+00, ..., 1.7800e+01, 3.9690e+02,\n",
            "        9.1400e+00],\n",
            "       [2.7290e-02, 0.0000e+00, 7.0700e+00, ..., 1.7800e+01, 3.9283e+02,\n",
            "        4.0300e+00],\n",
            "       ...,\n",
            "       [6.0760e-02, 0.0000e+00, 1.1930e+01, ..., 2.1000e+01, 3.9690e+02,\n",
            "        5.6400e+00],\n",
            "       [1.0959e-01, 0.0000e+00, 1.1930e+01, ..., 2.1000e+01, 3.9345e+02,\n",
            "        6.4800e+00],\n",
            "       [4.7410e-02, 0.0000e+00, 1.1930e+01, ..., 2.1000e+01, 3.9690e+02,\n",
            "        7.8800e+00]]), 'target': array([24. , 21.6, 34.7, 33.4, 36.2, 28.7, 22.9, 27.1, 16.5, 18.9, 15. ,\n",
            "       18.9, 21.7, 20.4, 18.2, 19.9, 23.1, 17.5, 20.2, 18.2, 13.6, 19.6,\n",
            "       15.2, 14.5, 15.6, 13.9, 16.6, 14.8, 18.4, 21. , 12.7, 14.5, 13.2,\n",
            "       13.1, 13.5, 18.9, 20. , 21. , 24.7, 30.8, 34.9, 26.6, 25.3, 24.7,\n",
            "       21.2, 19.3, 20. , 16.6, 14.4, 19.4, 19.7, 20.5, 25. , 23.4, 18.9,\n",
            "       35.4, 24.7, 31.6, 23.3, 19.6, 18.7, 16. , 22.2, 25. , 33. , 23.5,\n",
            "       19.4, 22. , 17.4, 20.9, 24.2, 21.7, 22.8, 23.4, 24.1, 21.4, 20. ,\n",
            "       20.8, 21.2, 20.3, 28. , 23.9, 24.8, 22.9, 23.9, 26.6, 22.5, 22.2,\n",
            "       23.6, 28.7, 22.6, 22. , 22.9, 25. , 20.6, 28.4, 21.4, 38.7, 43.8,\n",
            "       33.2, 27.5, 26.5, 18.6, 19.3, 20.1, 19.5, 19.5, 20.4, 19.8, 19.4,\n",
            "       21.7, 22.8, 18.8, 18.7, 18.5, 18.3, 21.2, 19.2, 20.4, 19.3, 22. ,\n",
            "       20.3, 20.5, 17.3, 18.8, 21.4, 15.7, 16.2, 18. , 14.3, 19.2, 19.6,\n",
            "       23. , 18.4, 15.6, 18.1, 17.4, 17.1, 13.3, 17.8, 14. , 14.4, 13.4,\n",
            "       15.6, 11.8, 13.8, 15.6, 14.6, 17.8, 15.4, 21.5, 19.6, 15.3, 19.4,\n",
            "       17. , 15.6, 13.1, 41.3, 24.3, 23.3, 27. , 50. , 50. , 50. , 22.7,\n",
            "       25. , 50. , 23.8, 23.8, 22.3, 17.4, 19.1, 23.1, 23.6, 22.6, 29.4,\n",
            "       23.2, 24.6, 29.9, 37.2, 39.8, 36.2, 37.9, 32.5, 26.4, 29.6, 50. ,\n",
            "       32. , 29.8, 34.9, 37. , 30.5, 36.4, 31.1, 29.1, 50. , 33.3, 30.3,\n",
            "       34.6, 34.9, 32.9, 24.1, 42.3, 48.5, 50. , 22.6, 24.4, 22.5, 24.4,\n",
            "       20. , 21.7, 19.3, 22.4, 28.1, 23.7, 25. , 23.3, 28.7, 21.5, 23. ,\n",
            "       26.7, 21.7, 27.5, 30.1, 44.8, 50. , 37.6, 31.6, 46.7, 31.5, 24.3,\n",
            "       31.7, 41.7, 48.3, 29. , 24. , 25.1, 31.5, 23.7, 23.3, 22. , 20.1,\n",
            "       22.2, 23.7, 17.6, 18.5, 24.3, 20.5, 24.5, 26.2, 24.4, 24.8, 29.6,\n",
            "       42.8, 21.9, 20.9, 44. , 50. , 36. , 30.1, 33.8, 43.1, 48.8, 31. ,\n",
            "       36.5, 22.8, 30.7, 50. , 43.5, 20.7, 21.1, 25.2, 24.4, 35.2, 32.4,\n",
            "       32. , 33.2, 33.1, 29.1, 35.1, 45.4, 35.4, 46. , 50. , 32.2, 22. ,\n",
            "       20.1, 23.2, 22.3, 24.8, 28.5, 37.3, 27.9, 23.9, 21.7, 28.6, 27.1,\n",
            "       20.3, 22.5, 29. , 24.8, 22. , 26.4, 33.1, 36.1, 28.4, 33.4, 28.2,\n",
            "       22.8, 20.3, 16.1, 22.1, 19.4, 21.6, 23.8, 16.2, 17.8, 19.8, 23.1,\n",
            "       21. , 23.8, 23.1, 20.4, 18.5, 25. , 24.6, 23. , 22.2, 19.3, 22.6,\n",
            "       19.8, 17.1, 19.4, 22.2, 20.7, 21.1, 19.5, 18.5, 20.6, 19. , 18.7,\n",
            "       32.7, 16.5, 23.9, 31.2, 17.5, 17.2, 23.1, 24.5, 26.6, 22.9, 24.1,\n",
            "       18.6, 30.1, 18.2, 20.6, 17.8, 21.7, 22.7, 22.6, 25. , 19.9, 20.8,\n",
            "       16.8, 21.9, 27.5, 21.9, 23.1, 50. , 50. , 50. , 50. , 50. , 13.8,\n",
            "       13.8, 15. , 13.9, 13.3, 13.1, 10.2, 10.4, 10.9, 11.3, 12.3,  8.8,\n",
            "        7.2, 10.5,  7.4, 10.2, 11.5, 15.1, 23.2,  9.7, 13.8, 12.7, 13.1,\n",
            "       12.5,  8.5,  5. ,  6.3,  5.6,  7.2, 12.1,  8.3,  8.5,  5. , 11.9,\n",
            "       27.9, 17.2, 27.5, 15. , 17.2, 17.9, 16.3,  7. ,  7.2,  7.5, 10.4,\n",
            "        8.8,  8.4, 16.7, 14.2, 20.8, 13.4, 11.7,  8.3, 10.2, 10.9, 11. ,\n",
            "        9.5, 14.5, 14.1, 16.1, 14.3, 11.7, 13.4,  9.6,  8.7,  8.4, 12.8,\n",
            "       10.5, 17.1, 18.4, 15.4, 10.8, 11.8, 14.9, 12.6, 14.1, 13. , 13.4,\n",
            "       15.2, 16.1, 17.8, 14.9, 14.1, 12.7, 13.5, 14.9, 20. , 16.4, 17.7,\n",
            "       19.5, 20.2, 21.4, 19.9, 19. , 19.1, 19.1, 20.1, 19.9, 19.6, 23.2,\n",
            "       29.8, 13.8, 13.3, 16.7, 12. , 14.6, 21.4, 23. , 23.7, 25. , 21.8,\n",
            "       20.6, 21.2, 19.1, 20.6, 15.2,  7. ,  8.1, 13.6, 20.1, 21.8, 24.5,\n",
            "       23.1, 19.7, 18.3, 21.2, 17.5, 16.8, 22.4, 20.6, 23.9, 22. , 11.9]), 'feature_names': array(['CRIM', 'ZN', 'INDUS', 'CHAS', 'NOX', 'RM', 'AGE', 'DIS', 'RAD',\n",
            "       'TAX', 'PTRATIO', 'B', 'LSTAT'], dtype='<U7'), 'DESCR': \".. _boston_dataset:\\n\\nBoston house prices dataset\\n---------------------------\\n\\n**Data Set Characteristics:**  \\n\\n    :Number of Instances: 506 \\n\\n    :Number of Attributes: 13 numeric/categorical predictive. Median Value (attribute 14) is usually the target.\\n\\n    :Attribute Information (in order):\\n        - CRIM     per capita crime rate by town\\n        - ZN       proportion of residential land zoned for lots over 25,000 sq.ft.\\n        - INDUS    proportion of non-retail business acres per town\\n        - CHAS     Charles River dummy variable (= 1 if tract bounds river; 0 otherwise)\\n        - NOX      nitric oxides concentration (parts per 10 million)\\n        - RM       average number of rooms per dwelling\\n        - AGE      proportion of owner-occupied units built prior to 1940\\n        - DIS      weighted distances to five Boston employment centres\\n        - RAD      index of accessibility to radial highways\\n        - TAX      full-value property-tax rate per $10,000\\n        - PTRATIO  pupil-teacher ratio by town\\n        - B        1000(Bk - 0.63)^2 where Bk is the proportion of blacks by town\\n        - LSTAT    % lower status of the population\\n        - MEDV     Median value of owner-occupied homes in $1000's\\n\\n    :Missing Attribute Values: None\\n\\n    :Creator: Harrison, D. and Rubinfeld, D.L.\\n\\nThis is a copy of UCI ML housing dataset.\\nhttps://archive.ics.uci.edu/ml/machine-learning-databases/housing/\\n\\n\\nThis dataset was taken from the StatLib library which is maintained at Carnegie Mellon University.\\n\\nThe Boston house-price data of Harrison, D. and Rubinfeld, D.L. 'Hedonic\\nprices and the demand for clean air', J. Environ. Economics & Management,\\nvol.5, 81-102, 1978.   Used in Belsley, Kuh & Welsch, 'Regression diagnostics\\n...', Wiley, 1980.   N.B. Various transformations are used in the table on\\npages 244-261 of the latter.\\n\\nThe Boston house-price data has been used in many machine learning papers that address regression\\nproblems.   \\n     \\n.. topic:: References\\n\\n   - Belsley, Kuh & Welsch, 'Regression diagnostics: Identifying Influential Data and Sources of Collinearity', Wiley, 1980. 244-261.\\n   - Quinlan,R. (1993). Combining Instance-Based and Model-Based Learning. In Proceedings on the Tenth International Conference of Machine Learning, 236-243, University of Massachusetts, Amherst. Morgan Kaufmann.\\n\", 'filename': '/usr/local/lib/python3.6/dist-packages/sklearn/datasets/data/boston_house_prices.csv'}\n"
          ],
          "name": "stdout"
        }
      ]
    },
    {
      "cell_type": "markdown",
      "metadata": {
        "id": "jBMT7zXCmIDG"
      },
      "source": [
        "### **Dataframe transformation and functions on dataset**"
      ]
    },
    {
      "cell_type": "code",
      "metadata": {
        "id": "ZQ588PYnV493",
        "colab": {
          "base_uri": "https://localhost:8080/",
          "height": 391
        },
        "outputId": "2661fb5f-357f-44ad-a92b-013e3d663e9b"
      },
      "source": [
        "# Transform the dataset into dataframe\n",
        "\n",
        "# \"Data\"  is the independent or xi variable\n",
        "df_x = pd.DataFrame(boston_dataset.data , columns = boston_dataset.feature_names)\n",
        "\n",
        "# \"Target\" mean y or dependent variable\n",
        "df_y = pd.DataFrame(boston_dataset.target, columns=['Price'])\n",
        "\n",
        "print('Independent variables dataframe:\\n',df_x.head(), '\\n','-'*80)\n",
        "\n",
        "print('Dependent variable dataframe:')\n",
        "df_y.head()"
      ],
      "execution_count": 101,
      "outputs": [
        {
          "output_type": "stream",
          "text": [
            "Independent variables dataframe:\n",
            "       CRIM    ZN  INDUS  CHAS    NOX  ...  RAD    TAX  PTRATIO       B  LSTAT\n",
            "0  0.00632  18.0   2.31   0.0  0.538  ...  1.0  296.0     15.3  396.90   4.98\n",
            "1  0.02731   0.0   7.07   0.0  0.469  ...  2.0  242.0     17.8  396.90   9.14\n",
            "2  0.02729   0.0   7.07   0.0  0.469  ...  2.0  242.0     17.8  392.83   4.03\n",
            "3  0.03237   0.0   2.18   0.0  0.458  ...  3.0  222.0     18.7  394.63   2.94\n",
            "4  0.06905   0.0   2.18   0.0  0.458  ...  3.0  222.0     18.7  396.90   5.33\n",
            "\n",
            "[5 rows x 13 columns] \n",
            " --------------------------------------------------------------------------------\n",
            "Dependent variable dataframe:\n"
          ],
          "name": "stdout"
        },
        {
          "output_type": "execute_result",
          "data": {
            "text/html": [
              "<div>\n",
              "<style scoped>\n",
              "    .dataframe tbody tr th:only-of-type {\n",
              "        vertical-align: middle;\n",
              "    }\n",
              "\n",
              "    .dataframe tbody tr th {\n",
              "        vertical-align: top;\n",
              "    }\n",
              "\n",
              "    .dataframe thead th {\n",
              "        text-align: right;\n",
              "    }\n",
              "</style>\n",
              "<table border=\"1\" class=\"dataframe\">\n",
              "  <thead>\n",
              "    <tr style=\"text-align: right;\">\n",
              "      <th></th>\n",
              "      <th>Price</th>\n",
              "    </tr>\n",
              "  </thead>\n",
              "  <tbody>\n",
              "    <tr>\n",
              "      <th>0</th>\n",
              "      <td>24.0</td>\n",
              "    </tr>\n",
              "    <tr>\n",
              "      <th>1</th>\n",
              "      <td>21.6</td>\n",
              "    </tr>\n",
              "    <tr>\n",
              "      <th>2</th>\n",
              "      <td>34.7</td>\n",
              "    </tr>\n",
              "    <tr>\n",
              "      <th>3</th>\n",
              "      <td>33.4</td>\n",
              "    </tr>\n",
              "    <tr>\n",
              "      <th>4</th>\n",
              "      <td>36.2</td>\n",
              "    </tr>\n",
              "  </tbody>\n",
              "</table>\n",
              "</div>"
            ],
            "text/plain": [
              "   Price\n",
              "0   24.0\n",
              "1   21.6\n",
              "2   34.7\n",
              "3   33.4\n",
              "4   36.2"
            ]
          },
          "metadata": {
            "tags": []
          },
          "execution_count": 101
        }
      ]
    },
    {
      "cell_type": "code",
      "metadata": {
        "colab": {
          "base_uri": "https://localhost:8080/",
          "height": 726
        },
        "id": "57VP1PrLWR-I",
        "outputId": "1c098503-1247-444b-9b21-b3102168c3c5"
      },
      "source": [
        "#  y = m(i)x(i) + b\n",
        "\n",
        "# Independent variables dataframe information\n",
        "print(\"Information about independent variable('X') dataframe:\\n\",df_x.info())\n",
        "\n",
        "print('-'*100)\n",
        "\n",
        "# Summary statistics\n",
        "display('Summary statistics of dataframe:',df_x.describe())"
      ],
      "execution_count": 102,
      "outputs": [
        {
          "output_type": "stream",
          "text": [
            "<class 'pandas.core.frame.DataFrame'>\n",
            "RangeIndex: 506 entries, 0 to 505\n",
            "Data columns (total 13 columns):\n",
            " #   Column   Non-Null Count  Dtype  \n",
            "---  ------   --------------  -----  \n",
            " 0   CRIM     506 non-null    float64\n",
            " 1   ZN       506 non-null    float64\n",
            " 2   INDUS    506 non-null    float64\n",
            " 3   CHAS     506 non-null    float64\n",
            " 4   NOX      506 non-null    float64\n",
            " 5   RM       506 non-null    float64\n",
            " 6   AGE      506 non-null    float64\n",
            " 7   DIS      506 non-null    float64\n",
            " 8   RAD      506 non-null    float64\n",
            " 9   TAX      506 non-null    float64\n",
            " 10  PTRATIO  506 non-null    float64\n",
            " 11  B        506 non-null    float64\n",
            " 12  LSTAT    506 non-null    float64\n",
            "dtypes: float64(13)\n",
            "memory usage: 51.5 KB\n",
            "Information about independent variable('X') dataframe:\n",
            " None\n",
            "----------------------------------------------------------------------------------------------------\n"
          ],
          "name": "stdout"
        },
        {
          "output_type": "display_data",
          "data": {
            "application/vnd.google.colaboratory.intrinsic+json": {
              "type": "string"
            },
            "text/plain": [
              "'Summary statistics of dataframe:'"
            ]
          },
          "metadata": {
            "tags": []
          }
        },
        {
          "output_type": "display_data",
          "data": {
            "text/html": [
              "<div>\n",
              "<style scoped>\n",
              "    .dataframe tbody tr th:only-of-type {\n",
              "        vertical-align: middle;\n",
              "    }\n",
              "\n",
              "    .dataframe tbody tr th {\n",
              "        vertical-align: top;\n",
              "    }\n",
              "\n",
              "    .dataframe thead th {\n",
              "        text-align: right;\n",
              "    }\n",
              "</style>\n",
              "<table border=\"1\" class=\"dataframe\">\n",
              "  <thead>\n",
              "    <tr style=\"text-align: right;\">\n",
              "      <th></th>\n",
              "      <th>CRIM</th>\n",
              "      <th>ZN</th>\n",
              "      <th>INDUS</th>\n",
              "      <th>CHAS</th>\n",
              "      <th>NOX</th>\n",
              "      <th>RM</th>\n",
              "      <th>AGE</th>\n",
              "      <th>DIS</th>\n",
              "      <th>RAD</th>\n",
              "      <th>TAX</th>\n",
              "      <th>PTRATIO</th>\n",
              "      <th>B</th>\n",
              "      <th>LSTAT</th>\n",
              "    </tr>\n",
              "  </thead>\n",
              "  <tbody>\n",
              "    <tr>\n",
              "      <th>count</th>\n",
              "      <td>506.000000</td>\n",
              "      <td>506.000000</td>\n",
              "      <td>506.000000</td>\n",
              "      <td>506.000000</td>\n",
              "      <td>506.000000</td>\n",
              "      <td>506.000000</td>\n",
              "      <td>506.000000</td>\n",
              "      <td>506.000000</td>\n",
              "      <td>506.000000</td>\n",
              "      <td>506.000000</td>\n",
              "      <td>506.000000</td>\n",
              "      <td>506.000000</td>\n",
              "      <td>506.000000</td>\n",
              "    </tr>\n",
              "    <tr>\n",
              "      <th>mean</th>\n",
              "      <td>3.613524</td>\n",
              "      <td>11.363636</td>\n",
              "      <td>11.136779</td>\n",
              "      <td>0.069170</td>\n",
              "      <td>0.554695</td>\n",
              "      <td>6.284634</td>\n",
              "      <td>68.574901</td>\n",
              "      <td>3.795043</td>\n",
              "      <td>9.549407</td>\n",
              "      <td>408.237154</td>\n",
              "      <td>18.455534</td>\n",
              "      <td>356.674032</td>\n",
              "      <td>12.653063</td>\n",
              "    </tr>\n",
              "    <tr>\n",
              "      <th>std</th>\n",
              "      <td>8.601545</td>\n",
              "      <td>23.322453</td>\n",
              "      <td>6.860353</td>\n",
              "      <td>0.253994</td>\n",
              "      <td>0.115878</td>\n",
              "      <td>0.702617</td>\n",
              "      <td>28.148861</td>\n",
              "      <td>2.105710</td>\n",
              "      <td>8.707259</td>\n",
              "      <td>168.537116</td>\n",
              "      <td>2.164946</td>\n",
              "      <td>91.294864</td>\n",
              "      <td>7.141062</td>\n",
              "    </tr>\n",
              "    <tr>\n",
              "      <th>min</th>\n",
              "      <td>0.006320</td>\n",
              "      <td>0.000000</td>\n",
              "      <td>0.460000</td>\n",
              "      <td>0.000000</td>\n",
              "      <td>0.385000</td>\n",
              "      <td>3.561000</td>\n",
              "      <td>2.900000</td>\n",
              "      <td>1.129600</td>\n",
              "      <td>1.000000</td>\n",
              "      <td>187.000000</td>\n",
              "      <td>12.600000</td>\n",
              "      <td>0.320000</td>\n",
              "      <td>1.730000</td>\n",
              "    </tr>\n",
              "    <tr>\n",
              "      <th>25%</th>\n",
              "      <td>0.082045</td>\n",
              "      <td>0.000000</td>\n",
              "      <td>5.190000</td>\n",
              "      <td>0.000000</td>\n",
              "      <td>0.449000</td>\n",
              "      <td>5.885500</td>\n",
              "      <td>45.025000</td>\n",
              "      <td>2.100175</td>\n",
              "      <td>4.000000</td>\n",
              "      <td>279.000000</td>\n",
              "      <td>17.400000</td>\n",
              "      <td>375.377500</td>\n",
              "      <td>6.950000</td>\n",
              "    </tr>\n",
              "    <tr>\n",
              "      <th>50%</th>\n",
              "      <td>0.256510</td>\n",
              "      <td>0.000000</td>\n",
              "      <td>9.690000</td>\n",
              "      <td>0.000000</td>\n",
              "      <td>0.538000</td>\n",
              "      <td>6.208500</td>\n",
              "      <td>77.500000</td>\n",
              "      <td>3.207450</td>\n",
              "      <td>5.000000</td>\n",
              "      <td>330.000000</td>\n",
              "      <td>19.050000</td>\n",
              "      <td>391.440000</td>\n",
              "      <td>11.360000</td>\n",
              "    </tr>\n",
              "    <tr>\n",
              "      <th>75%</th>\n",
              "      <td>3.677083</td>\n",
              "      <td>12.500000</td>\n",
              "      <td>18.100000</td>\n",
              "      <td>0.000000</td>\n",
              "      <td>0.624000</td>\n",
              "      <td>6.623500</td>\n",
              "      <td>94.075000</td>\n",
              "      <td>5.188425</td>\n",
              "      <td>24.000000</td>\n",
              "      <td>666.000000</td>\n",
              "      <td>20.200000</td>\n",
              "      <td>396.225000</td>\n",
              "      <td>16.955000</td>\n",
              "    </tr>\n",
              "    <tr>\n",
              "      <th>max</th>\n",
              "      <td>88.976200</td>\n",
              "      <td>100.000000</td>\n",
              "      <td>27.740000</td>\n",
              "      <td>1.000000</td>\n",
              "      <td>0.871000</td>\n",
              "      <td>8.780000</td>\n",
              "      <td>100.000000</td>\n",
              "      <td>12.126500</td>\n",
              "      <td>24.000000</td>\n",
              "      <td>711.000000</td>\n",
              "      <td>22.000000</td>\n",
              "      <td>396.900000</td>\n",
              "      <td>37.970000</td>\n",
              "    </tr>\n",
              "  </tbody>\n",
              "</table>\n",
              "</div>"
            ],
            "text/plain": [
              "             CRIM          ZN       INDUS  ...     PTRATIO           B       LSTAT\n",
              "count  506.000000  506.000000  506.000000  ...  506.000000  506.000000  506.000000\n",
              "mean     3.613524   11.363636   11.136779  ...   18.455534  356.674032   12.653063\n",
              "std      8.601545   23.322453    6.860353  ...    2.164946   91.294864    7.141062\n",
              "min      0.006320    0.000000    0.460000  ...   12.600000    0.320000    1.730000\n",
              "25%      0.082045    0.000000    5.190000  ...   17.400000  375.377500    6.950000\n",
              "50%      0.256510    0.000000    9.690000  ...   19.050000  391.440000   11.360000\n",
              "75%      3.677083   12.500000   18.100000  ...   20.200000  396.225000   16.955000\n",
              "max     88.976200  100.000000   27.740000  ...   22.000000  396.900000   37.970000\n",
              "\n",
              "[8 rows x 13 columns]"
            ]
          },
          "metadata": {
            "tags": []
          }
        }
      ]
    },
    {
      "cell_type": "code",
      "metadata": {
        "colab": {
          "base_uri": "https://localhost:8080/",
          "height": 502
        },
        "id": "aXxILOqC4CfO",
        "outputId": "0c099158-ef99-4dd2-8615-1d63f4c29dff"
      },
      "source": [
        "# Dependent variable dataframe infromation\n",
        "print(\"Information about dependent variable('Y') dataframe:\\n\",df_y.info())\n",
        "\n",
        "print('-'*100)\n",
        "\n",
        "# Summary statistics\n",
        "display('Summary statistics of dataframe:',df_y.describe())"
      ],
      "execution_count": 103,
      "outputs": [
        {
          "output_type": "stream",
          "text": [
            "<class 'pandas.core.frame.DataFrame'>\n",
            "RangeIndex: 506 entries, 0 to 505\n",
            "Data columns (total 1 columns):\n",
            " #   Column  Non-Null Count  Dtype  \n",
            "---  ------  --------------  -----  \n",
            " 0   Price   506 non-null    float64\n",
            "dtypes: float64(1)\n",
            "memory usage: 4.1 KB\n",
            "Information about dependent variable('Y') dataframe:\n",
            " None\n",
            "----------------------------------------------------------------------------------------------------\n"
          ],
          "name": "stdout"
        },
        {
          "output_type": "display_data",
          "data": {
            "application/vnd.google.colaboratory.intrinsic+json": {
              "type": "string"
            },
            "text/plain": [
              "'Summary statistics of dataframe:'"
            ]
          },
          "metadata": {
            "tags": []
          }
        },
        {
          "output_type": "display_data",
          "data": {
            "text/html": [
              "<div>\n",
              "<style scoped>\n",
              "    .dataframe tbody tr th:only-of-type {\n",
              "        vertical-align: middle;\n",
              "    }\n",
              "\n",
              "    .dataframe tbody tr th {\n",
              "        vertical-align: top;\n",
              "    }\n",
              "\n",
              "    .dataframe thead th {\n",
              "        text-align: right;\n",
              "    }\n",
              "</style>\n",
              "<table border=\"1\" class=\"dataframe\">\n",
              "  <thead>\n",
              "    <tr style=\"text-align: right;\">\n",
              "      <th></th>\n",
              "      <th>Price</th>\n",
              "    </tr>\n",
              "  </thead>\n",
              "  <tbody>\n",
              "    <tr>\n",
              "      <th>count</th>\n",
              "      <td>506.000000</td>\n",
              "    </tr>\n",
              "    <tr>\n",
              "      <th>mean</th>\n",
              "      <td>22.532806</td>\n",
              "    </tr>\n",
              "    <tr>\n",
              "      <th>std</th>\n",
              "      <td>9.197104</td>\n",
              "    </tr>\n",
              "    <tr>\n",
              "      <th>min</th>\n",
              "      <td>5.000000</td>\n",
              "    </tr>\n",
              "    <tr>\n",
              "      <th>25%</th>\n",
              "      <td>17.025000</td>\n",
              "    </tr>\n",
              "    <tr>\n",
              "      <th>50%</th>\n",
              "      <td>21.200000</td>\n",
              "    </tr>\n",
              "    <tr>\n",
              "      <th>75%</th>\n",
              "      <td>25.000000</td>\n",
              "    </tr>\n",
              "    <tr>\n",
              "      <th>max</th>\n",
              "      <td>50.000000</td>\n",
              "    </tr>\n",
              "  </tbody>\n",
              "</table>\n",
              "</div>"
            ],
            "text/plain": [
              "            Price\n",
              "count  506.000000\n",
              "mean    22.532806\n",
              "std      9.197104\n",
              "min      5.000000\n",
              "25%     17.025000\n",
              "50%     21.200000\n",
              "75%     25.000000\n",
              "max     50.000000"
            ]
          },
          "metadata": {
            "tags": []
          }
        }
      ]
    },
    {
      "cell_type": "markdown",
      "metadata": {
        "id": "gAxNarUk8G0j"
      },
      "source": [
        "### **Data distribution of data frames (Dataset):**"
      ]
    },
    {
      "cell_type": "code",
      "metadata": {
        "colab": {
          "base_uri": "https://localhost:8080/",
          "height": 879
        },
        "id": "ncwzlaTh8hgD",
        "outputId": "fa6301cb-bcaa-47d7-a4bf-150869be8feb"
      },
      "source": [
        "df_x.hist(bins=50, figsize=(15,15))\r\n",
        "plt.show()"
      ],
      "execution_count": 104,
      "outputs": [
        {
          "output_type": "display_data",
          "data": {
            "image/png": "[encoded data removed]",
            "text/plain": [
              "<Figure size 1080x1080 with 16 Axes>"
            ]
          },
          "metadata": {
            "tags": [],
            "needs_background": "light"
          }
        }
      ]
    },
    {
      "cell_type": "code",
      "metadata": {
        "colab": {
          "base_uri": "https://localhost:8080/",
          "height": 336
        },
        "id": "ukAZUxMf-4Y9",
        "outputId": "e2d5d40b-fd98-4590-dab8-cb805f7696a4"
      },
      "source": [
        "df_y.hist(bins=50,figsize=(5,5))\r\n",
        "plt.show()"
      ],
      "execution_count": 105,
      "outputs": [
        {
          "output_type": "display_data",
          "data": {
            "image/png": "[encoded data removed]",
            "text/plain": [
              "<Figure size 360x360 with 1 Axes>"
            ]
          },
          "metadata": {
            "tags": [],
            "needs_background": "light"
          }
        }
      ]
    },
    {
      "cell_type": "markdown",
      "metadata": {
        "id": "w4vW0grhlrOt"
      },
      "source": [
        "### **Model Fitting**"
      ]
    },
    {
      "cell_type": "markdown",
      "metadata": {
        "id": "6ToibxWvGGVY"
      },
      "source": [
        "![LR.jpg](data:image/jpeg;base64,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)"
      ]
    },
    {
      "cell_type": "code",
      "metadata": {
        "id": "y-kW1mbabPJb"
      },
      "source": [
        "# Initialize the linear regression model\n",
        "model = linear_model.LinearRegression()"
      ],
      "execution_count": 106,
      "outputs": []
    },
    {
      "cell_type": "markdown",
      "metadata": {
        "id": "JZrdcC_Wz2Zr"
      },
      "source": [
        "![Train_test_split.png](data:image/png;base64,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)"
      ]
    },
    {
      "cell_type": "code",
      "metadata": {
        "id": "KeTWTw3fq3g_"
      },
      "source": [
        "# Split the data into 67% training and 33% testing data\n",
        "x_train, x_test, y_train, y_test = train_test_split(df_x, df_y, test_size= 0.33, random_state= 100)"
      ],
      "execution_count": 107,
      "outputs": []
    },
    {
      "cell_type": "markdown",
      "metadata": {
        "id": "y_hgDKmGIjj1"
      },
      "source": [
        "#### **Standardization (Optional)**\r\n",
        "StandardScaler standardizes a feature by subtracting the mean and then scaling to unit variance."
      ]
    },
    {
      "cell_type": "code",
      "metadata": {
        "id": "xYoRRGdBILoz"
      },
      "source": [
        "# Standardization\r\n",
        "# scaler = StandardScaler()\r\n",
        "# x_train = scaler.fit_transform(x_train)\r\n",
        "# x_test  = scaler.transform(x_test)"
      ],
      "execution_count": 108,
      "outputs": []
    },
    {
      "cell_type": "code",
      "metadata": {
        "colab": {
          "base_uri": "https://localhost:8080/",
          "height": 111
        },
        "id": "0eBwK9PEIMqf",
        "outputId": "8815b1a1-18b9-4de8-9862-7a5190277d77"
      },
      "source": [
        "x_train[:2]"
      ],
      "execution_count": 109,
      "outputs": [
        {
          "output_type": "execute_result",
          "data": {
            "text/html": [
              "<div>\n",
              "<style scoped>\n",
              "    .dataframe tbody tr th:only-of-type {\n",
              "        vertical-align: middle;\n",
              "    }\n",
              "\n",
              "    .dataframe tbody tr th {\n",
              "        vertical-align: top;\n",
              "    }\n",
              "\n",
              "    .dataframe thead th {\n",
              "        text-align: right;\n",
              "    }\n",
              "</style>\n",
              "<table border=\"1\" class=\"dataframe\">\n",
              "  <thead>\n",
              "    <tr style=\"text-align: right;\">\n",
              "      <th></th>\n",
              "      <th>CRIM</th>\n",
              "      <th>ZN</th>\n",
              "      <th>INDUS</th>\n",
              "      <th>CHAS</th>\n",
              "      <th>NOX</th>\n",
              "      <th>RM</th>\n",
              "      <th>AGE</th>\n",
              "      <th>DIS</th>\n",
              "      <th>RAD</th>\n",
              "      <th>TAX</th>\n",
              "      <th>PTRATIO</th>\n",
              "      <th>B</th>\n",
              "      <th>LSTAT</th>\n",
              "    </tr>\n",
              "  </thead>\n",
              "  <tbody>\n",
              "    <tr>\n",
              "      <th>271</th>\n",
              "      <td>0.16211</td>\n",
              "      <td>20.0</td>\n",
              "      <td>6.96</td>\n",
              "      <td>0.0</td>\n",
              "      <td>0.464</td>\n",
              "      <td>6.240</td>\n",
              "      <td>16.3</td>\n",
              "      <td>4.4290</td>\n",
              "      <td>3.0</td>\n",
              "      <td>223.0</td>\n",
              "      <td>18.6</td>\n",
              "      <td>396.90</td>\n",
              "      <td>6.59</td>\n",
              "    </tr>\n",
              "    <tr>\n",
              "      <th>355</th>\n",
              "      <td>0.10659</td>\n",
              "      <td>80.0</td>\n",
              "      <td>1.91</td>\n",
              "      <td>0.0</td>\n",
              "      <td>0.413</td>\n",
              "      <td>5.936</td>\n",
              "      <td>19.5</td>\n",
              "      <td>10.5857</td>\n",
              "      <td>4.0</td>\n",
              "      <td>334.0</td>\n",
              "      <td>22.0</td>\n",
              "      <td>376.04</td>\n",
              "      <td>5.57</td>\n",
              "    </tr>\n",
              "  </tbody>\n",
              "</table>\n",
              "</div>"
            ],
            "text/plain": [
              "        CRIM    ZN  INDUS  CHAS    NOX  ...  RAD    TAX  PTRATIO       B  LSTAT\n",
              "271  0.16211  20.0   6.96   0.0  0.464  ...  3.0  223.0     18.6  396.90   6.59\n",
              "355  0.10659  80.0   1.91   0.0  0.413  ...  4.0  334.0     22.0  376.04   5.57\n",
              "\n",
              "[2 rows x 13 columns]"
            ]
          },
          "metadata": {
            "tags": []
          },
          "execution_count": 109
        }
      ]
    },
    {
      "cell_type": "markdown",
      "metadata": {
        "id": "tuRDyM94IrQh"
      },
      "source": [
        "#### Normalization (Optional)\r\n",
        "Normalization refers to rescaling real-valued numeric attributes into a 0 to 1 range."
      ]
    },
    {
      "cell_type": "code",
      "metadata": {
        "id": "gHAf_snrINRN"
      },
      "source": [
        "# # Normalization\r\n",
        "# normalizer = Normalizer()\r\n",
        "# x_train = normalizer.fit_transform(x_train)\r\n",
        "# x_test  = normalizer.transform(x_test)"
      ],
      "execution_count": 110,
      "outputs": []
    },
    {
      "cell_type": "code",
      "metadata": {
        "colab": {
          "base_uri": "https://localhost:8080/",
          "height": 111
        },
        "id": "asWV_puqIN-M",
        "outputId": "93515083-c157-4a1d-a151-2f7951307ea1"
      },
      "source": [
        "x_train[:2]"
      ],
      "execution_count": 111,
      "outputs": [
        {
          "output_type": "execute_result",
          "data": {
            "text/html": [
              "<div>\n",
              "<style scoped>\n",
              "    .dataframe tbody tr th:only-of-type {\n",
              "        vertical-align: middle;\n",
              "    }\n",
              "\n",
              "    .dataframe tbody tr th {\n",
              "        vertical-align: top;\n",
              "    }\n",
              "\n",
              "    .dataframe thead th {\n",
              "        text-align: right;\n",
              "    }\n",
              "</style>\n",
              "<table border=\"1\" class=\"dataframe\">\n",
              "  <thead>\n",
              "    <tr style=\"text-align: right;\">\n",
              "      <th></th>\n",
              "      <th>CRIM</th>\n",
              "      <th>ZN</th>\n",
              "      <th>INDUS</th>\n",
              "      <th>CHAS</th>\n",
              "      <th>NOX</th>\n",
              "      <th>RM</th>\n",
              "      <th>AGE</th>\n",
              "      <th>DIS</th>\n",
              "      <th>RAD</th>\n",
              "      <th>TAX</th>\n",
              "      <th>PTRATIO</th>\n",
              "      <th>B</th>\n",
              "      <th>LSTAT</th>\n",
              "    </tr>\n",
              "  </thead>\n",
              "  <tbody>\n",
              "    <tr>\n",
              "      <th>271</th>\n",
              "      <td>0.16211</td>\n",
              "      <td>20.0</td>\n",
              "      <td>6.96</td>\n",
              "      <td>0.0</td>\n",
              "      <td>0.464</td>\n",
              "      <td>6.240</td>\n",
              "      <td>16.3</td>\n",
              "      <td>4.4290</td>\n",
              "      <td>3.0</td>\n",
              "      <td>223.0</td>\n",
              "      <td>18.6</td>\n",
              "      <td>396.90</td>\n",
              "      <td>6.59</td>\n",
              "    </tr>\n",
              "    <tr>\n",
              "      <th>355</th>\n",
              "      <td>0.10659</td>\n",
              "      <td>80.0</td>\n",
              "      <td>1.91</td>\n",
              "      <td>0.0</td>\n",
              "      <td>0.413</td>\n",
              "      <td>5.936</td>\n",
              "      <td>19.5</td>\n",
              "      <td>10.5857</td>\n",
              "      <td>4.0</td>\n",
              "      <td>334.0</td>\n",
              "      <td>22.0</td>\n",
              "      <td>376.04</td>\n",
              "      <td>5.57</td>\n",
              "    </tr>\n",
              "  </tbody>\n",
              "</table>\n",
              "</div>"
            ],
            "text/plain": [
              "        CRIM    ZN  INDUS  CHAS    NOX  ...  RAD    TAX  PTRATIO       B  LSTAT\n",
              "271  0.16211  20.0   6.96   0.0  0.464  ...  3.0  223.0     18.6  396.90   6.59\n",
              "355  0.10659  80.0   1.91   0.0  0.413  ...  4.0  334.0     22.0  376.04   5.57\n",
              "\n",
              "[2 rows x 13 columns]"
            ]
          },
          "metadata": {
            "tags": []
          },
          "execution_count": 111
        }
      ]
    },
    {
      "cell_type": "code",
      "metadata": {
        "colab": {
          "base_uri": "https://localhost:8080/"
        },
        "id": "W-w_NeR53mRL",
        "outputId": "12f788d8-704e-497f-9b62-48411d0378c2"
      },
      "source": [
        "print('X_train shape:\\n', x_train.shape, '\\n','-' * 80)\n",
        "print('Y_train shape:\\n', y_train.shape)"
      ],
      "execution_count": 112,
      "outputs": [
        {
          "output_type": "stream",
          "text": [
            "X_train shape:\n",
            " (339, 13) \n",
            " --------------------------------------------------------------------------------\n",
            "Y_train shape:\n",
            " (339, 1)\n"
          ],
          "name": "stdout"
        }
      ]
    },
    {
      "cell_type": "code",
      "metadata": {
        "colab": {
          "base_uri": "https://localhost:8080/"
        },
        "id": "HbMTZ2R8-o5R",
        "outputId": "b99f1af4-5fe1-4907-a148-0b3de40f7867"
      },
      "source": [
        "print('X_test shape:\\n', x_test.shape, '\\n','-' * 80)\n",
        "print('Y_test shape:\\n', y_test.shape)"
      ],
      "execution_count": 113,
      "outputs": [
        {
          "output_type": "stream",
          "text": [
            "X_test shape:\n",
            " (167, 13) \n",
            " --------------------------------------------------------------------------------\n",
            "Y_test shape:\n",
            " (167, 1)\n"
          ],
          "name": "stdout"
        }
      ]
    },
    {
      "cell_type": "code",
      "metadata": {
        "colab": {
          "base_uri": "https://localhost:8080/"
        },
        "id": "wi9MJmaysnIO",
        "outputId": "5a1ba6d8-4442-4153-b6fd-fc4e4068e6c2"
      },
      "source": [
        "# Train the model with our training data\n",
        "model.fit(x_train, y_train)"
      ],
      "execution_count": 114,
      "outputs": [
        {
          "output_type": "execute_result",
          "data": {
            "text/plain": [
              "LinearRegression(copy_X=True, fit_intercept=True, n_jobs=None, normalize=False)"
            ]
          },
          "metadata": {
            "tags": []
          },
          "execution_count": 114
        }
      ]
    },
    {
      "cell_type": "code",
      "metadata": {
        "colab": {
          "base_uri": "https://localhost:8080/"
        },
        "id": "27AcVev-uZpr",
        "outputId": "602157fa-2ffd-4367-b687-5225c16e6388"
      },
      "source": [
        "# Print the co-efficients/weights of each column/feature of our model\n",
        "print('Coefficients of each column:\\n',model.coef_)  "
      ],
      "execution_count": 115,
      "outputs": [
        {
          "output_type": "stream",
          "text": [
            "Coefficients of each column:\n",
            " [[-7.08506031e-02  3.83545105e-02  1.64586726e-03  2.68064794e+00\n",
            "  -1.40457528e+01  3.87983706e+00 -1.47321271e-02 -1.46902169e+00\n",
            "   2.72037962e-01 -1.38898308e-02 -9.29309865e-01  1.06770120e-02\n",
            "  -4.35484842e-01]]\n"
          ],
          "name": "stdout"
        }
      ]
    },
    {
      "cell_type": "code",
      "metadata": {
        "colab": {
          "base_uri": "https://localhost:8080/",
          "height": 452
        },
        "id": "HdLGZ4bhQk1o",
        "outputId": "61b6a4a8-37f9-4459-b187-f3a90f3d9585"
      },
      "source": [
        "# Coefficients in data-frame format\r\n",
        "coefficients = model.coef_.reshape(-1,1)\r\n",
        "pd.DataFrame(coefficients, x_test.columns, columns=['Coefficients'])"
      ],
      "execution_count": 116,
      "outputs": [
        {
          "output_type": "execute_result",
          "data": {
            "text/html": [
              "<div>\n",
              "<style scoped>\n",
              "    .dataframe tbody tr th:only-of-type {\n",
              "        vertical-align: middle;\n",
              "    }\n",
              "\n",
              "    .dataframe tbody tr th {\n",
              "        vertical-align: top;\n",
              "    }\n",
              "\n",
              "    .dataframe thead th {\n",
              "        text-align: right;\n",
              "    }\n",
              "</style>\n",
              "<table border=\"1\" class=\"dataframe\">\n",
              "  <thead>\n",
              "    <tr style=\"text-align: right;\">\n",
              "      <th></th>\n",
              "      <th>Coefficients</th>\n",
              "    </tr>\n",
              "  </thead>\n",
              "  <tbody>\n",
              "    <tr>\n",
              "      <th>CRIM</th>\n",
              "      <td>-0.070851</td>\n",
              "    </tr>\n",
              "    <tr>\n",
              "      <th>ZN</th>\n",
              "      <td>0.038355</td>\n",
              "    </tr>\n",
              "    <tr>\n",
              "      <th>INDUS</th>\n",
              "      <td>0.001646</td>\n",
              "    </tr>\n",
              "    <tr>\n",
              "      <th>CHAS</th>\n",
              "      <td>2.680648</td>\n",
              "    </tr>\n",
              "    <tr>\n",
              "      <th>NOX</th>\n",
              "      <td>-14.045753</td>\n",
              "    </tr>\n",
              "    <tr>\n",
              "      <th>RM</th>\n",
              "      <td>3.879837</td>\n",
              "    </tr>\n",
              "    <tr>\n",
              "      <th>AGE</th>\n",
              "      <td>-0.014732</td>\n",
              "    </tr>\n",
              "    <tr>\n",
              "      <th>DIS</th>\n",
              "      <td>-1.469022</td>\n",
              "    </tr>\n",
              "    <tr>\n",
              "      <th>RAD</th>\n",
              "      <td>0.272038</td>\n",
              "    </tr>\n",
              "    <tr>\n",
              "      <th>TAX</th>\n",
              "      <td>-0.013890</td>\n",
              "    </tr>\n",
              "    <tr>\n",
              "      <th>PTRATIO</th>\n",
              "      <td>-0.929310</td>\n",
              "    </tr>\n",
              "    <tr>\n",
              "      <th>B</th>\n",
              "      <td>0.010677</td>\n",
              "    </tr>\n",
              "    <tr>\n",
              "      <th>LSTAT</th>\n",
              "      <td>-0.435485</td>\n",
              "    </tr>\n",
              "  </tbody>\n",
              "</table>\n",
              "</div>"
            ],
            "text/plain": [
              "         Coefficients\n",
              "CRIM        -0.070851\n",
              "ZN           0.038355\n",
              "INDUS        0.001646\n",
              "CHAS         2.680648\n",
              "NOX        -14.045753\n",
              "RM           3.879837\n",
              "AGE         -0.014732\n",
              "DIS         -1.469022\n",
              "RAD          0.272038\n",
              "TAX         -0.013890\n",
              "PTRATIO     -0.929310\n",
              "B            0.010677\n",
              "LSTAT       -0.435485"
            ]
          },
          "metadata": {
            "tags": []
          },
          "execution_count": 116
        }
      ]
    },
    {
      "cell_type": "code",
      "metadata": {
        "colab": {
          "base_uri": "https://localhost:8080/"
        },
        "id": "Ms7vZ2ihqHHB",
        "outputId": "bb8464a8-46a9-4c4a-c91c-206373ae25bd"
      },
      "source": [
        "# Print the intercept of our model\r\n",
        "print('Intercept value:\\n',model.intercept_)"
      ],
      "execution_count": 117,
      "outputs": [
        {
          "output_type": "stream",
          "text": [
            "Intercept value:\n",
            " [33.93984638]\n"
          ],
          "name": "stdout"
        }
      ]
    },
    {
      "cell_type": "markdown",
      "metadata": {
        "id": "K6lKz7ifmjNS"
      },
      "source": [
        "### **Prediction**"
      ]
    },
    {
      "cell_type": "code",
      "metadata": {
        "colab": {
          "base_uri": "https://localhost:8080/"
        },
        "id": "mFuVHMNSv7Xu",
        "outputId": "b83c4a54-ecab-445c-93e6-05d856dc9f10"
      },
      "source": [
        "# Predict the values\n",
        "y_pred = model.predict(x_test)\n",
        "\n",
        "# Print the first 5 predictions of our test data\n",
        "print('Prediction of values on test data:\\n',y_pred[:5])"
      ],
      "execution_count": 118,
      "outputs": [
        {
          "output_type": "stream",
          "text": [
            "Prediction of values on test data:\n",
            " [[33.82380163]\n",
            " [31.15262645]\n",
            " [22.41043001]\n",
            " [17.90473334]\n",
            " [20.48262679]]\n"
          ],
          "name": "stdout"
        }
      ]
    },
    {
      "cell_type": "code",
      "metadata": {
        "colab": {
          "base_uri": "https://localhost:8080/",
          "height": 295
        },
        "id": "CUArS7uFOkT8",
        "outputId": "e95c546b-c1c8-4614-a168-ca91acdceff6"
      },
      "source": [
        "# Scatter plot for Predicted data\r\n",
        "plt.plot(y_pred, 'o' , alpha = 0.5)\r\n",
        "plt.title('Predicted Data')\r\n",
        "plt.xlabel('Data columns')\r\n",
        "plt.ylabel('Target column (Price)') \r\n",
        "plt.show()"
      ],
      "execution_count": 119,
      "outputs": [
        {
          "output_type": "display_data",
          "data": {
            "image/png": "[encoded data removed]",
            "text/plain": [
              "<Figure size 432x288 with 1 Axes>"
            ]
          },
          "metadata": {
            "tags": [],
            "needs_background": "light"
          }
        }
      ]
    },
    {
      "cell_type": "markdown",
      "metadata": {
        "id": "D-F7QjTMXGhH"
      },
      "source": [
        "### **Comparison with actual values**"
      ]
    },
    {
      "cell_type": "code",
      "metadata": {
        "colab": {
          "base_uri": "https://localhost:8080/"
        },
        "id": "Y_pviWRPwwxI",
        "outputId": "6cacd3ff-5f5f-4086-dbbd-8393a2efa992"
      },
      "source": [
        "# Print the actual values\n",
        "print('Actual values:\\n',y_test[:5])"
      ],
      "execution_count": 120,
      "outputs": [
        {
          "output_type": "stream",
          "text": [
            "Actual values:\n",
            "      Price\n",
            "198   34.6\n",
            "229   31.5\n",
            "502   20.6\n",
            "31    14.5\n",
            "315   16.2\n"
          ],
          "name": "stdout"
        }
      ]
    },
    {
      "cell_type": "code",
      "metadata": {
        "colab": {
          "base_uri": "https://localhost:8080/",
          "height": 295
        },
        "id": "N0kZpv-sPeYu",
        "outputId": "75ded5b0-e5ac-4583-8a53-44e8347507b7"
      },
      "source": [
        "# Scatter plot for Actual data\r\n",
        "plt.plot(y_test, 'o' ,alpha= 0.5)\r\n",
        "plt.title('Actual Data')\r\n",
        "plt.xlabel('Data columns')\r\n",
        "plt.ylabel('Target column (Price)') \r\n",
        "plt.show()"
      ],
      "execution_count": 121,
      "outputs": [
        {
          "output_type": "display_data",
          "data": {
            "image/png": "[encoded data removed]",
            "text/plain": [
              "<Figure size 432x288 with 1 Axes>"
            ]
          },
          "metadata": {
            "tags": [],
            "needs_background": "light"
          }
        }
      ]
    },
    {
      "cell_type": "markdown",
      "metadata": {
        "id": "OuSfB3XMcHi8"
      },
      "source": [
        "### **Model Evaluation Metrics:**"
      ]
    },
    {
      "cell_type": "markdown",
      "metadata": {
        "id": "SvF28bi4lFHc"
      },
      "source": [
        "#### **Mean Square Error (MSE)**"
      ]
    },
    {
      "cell_type": "markdown",
      "metadata": {
        "id": "C1AccPWL_v0A"
      },
      "source": [
        "![MSE.png](data:image/png;base64,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)"
      ]
    },
    {
      "cell_type": "code",
      "metadata": {
        "colab": {
          "base_uri": "https://localhost:8080/"
        },
        "id": "j12rH6zsxyHe",
        "outputId": "2cea66bc-b640-4978-a8f8-31e0727507b8"
      },
      "source": [
        "# Check the model performance/accuracy using mean squared error(MSE)\n",
        "print(np.mean( (y_pred - y_test) **2 ) )"
      ],
      "execution_count": 122,
      "outputs": [
        {
          "output_type": "stream",
          "text": [
            "Price    28.914543\n",
            "dtype: float64\n"
          ],
          "name": "stdout"
        }
      ]
    },
    {
      "cell_type": "code",
      "metadata": {
        "colab": {
          "base_uri": "https://localhost:8080/"
        },
        "id": "B0wUKyQ2Au-I",
        "outputId": "59fea710-3937-4bab-b125-1beee7964f23"
      },
      "source": [
        "# Check the model performance/accuracy by mean squared error(MSE) using sklearn.metrics\n",
        "print( mean_squared_error(y_test,y_pred))"
      ],
      "execution_count": 123,
      "outputs": [
        {
          "output_type": "stream",
          "text": [
            "28.914542900809323\n"
          ],
          "name": "stdout"
        }
      ]
    },
    {
      "cell_type": "markdown",
      "metadata": {
        "id": "VYGklfiXsN3V"
      },
      "source": [
        "#### **R2-Score:** \r\n",
        "* It determine the best line is how much good overall. What is it's percentage as compare to 100%?\r\n",
        "\r\n",
        "* R-squared is a statistical measure of how close the data are to the fitted regression line. It is also known as the coefficient of determination, or the coefficient of multiple determination for multiple regression.\r\n",
        " \r\n",
        "TSS(Total sum of square) = (Each item - Avg of all items)^2 \r\n",
        "\r\n"
      ]
    },
    {
      "cell_type": "markdown",
      "metadata": {
        "id": "wkV0Lgrwtt9M"
      },
      "source": [
        "![R-2 score.png](data:image/png;base64,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)"
      ]
    },
    {
      "cell_type": "code",
      "metadata": {
        "colab": {
          "base_uri": "https://localhost:8080/"
        },
        "id": "9PzGUZefq01t",
        "outputId": "75328e2c-ade2-4c0b-bc38-223a8645527c"
      },
      "source": [
        "# Finding R2 Score \r\n",
        "r_score = r2_score(y_test, y_pred)\r\n",
        "print(r_score)"
      ],
      "execution_count": 124,
      "outputs": [
        {
          "output_type": "stream",
          "text": [
            "0.6975641751193842\n"
          ],
          "name": "stdout"
        }
      ]
    },
    {
      "cell_type": "markdown",
      "metadata": {
        "id": "6brP98BRZwEb"
      },
      "source": [
        "### **Features Analysis**\r\n",
        "You can find required features by: Pvalue, Correlation and RFE(Recursive feature elimination)."
      ]
    },
    {
      "cell_type": "markdown",
      "metadata": {
        "id": "xHFFx06Zamxi"
      },
      "source": [
        "#### **Correlation:**"
      ]
    },
    {
      "cell_type": "code",
      "metadata": {
        "colab": {
          "base_uri": "https://localhost:8080/",
          "height": 204
        },
        "id": "D2NT9PtUaajn",
        "outputId": "0b692c8e-dc13-4f80-9cd8-7a9168be7141"
      },
      "source": [
        "# Concatenate both dataframe for visualization purpose\r\n",
        "df_x_y = pd.concat([df_x, df_y], axis=1)\r\n",
        "df_x_y.head()"
      ],
      "execution_count": 125,
      "outputs": [
        {
          "output_type": "execute_result",
          "data": {
            "text/html": [
              "<div>\n",
              "<style scoped>\n",
              "    .dataframe tbody tr th:only-of-type {\n",
              "        vertical-align: middle;\n",
              "    }\n",
              "\n",
              "    .dataframe tbody tr th {\n",
              "        vertical-align: top;\n",
              "    }\n",
              "\n",
              "    .dataframe thead th {\n",
              "        text-align: right;\n",
              "    }\n",
              "</style>\n",
              "<table border=\"1\" class=\"dataframe\">\n",
              "  <thead>\n",
              "    <tr style=\"text-align: right;\">\n",
              "      <th></th>\n",
              "      <th>CRIM</th>\n",
              "      <th>ZN</th>\n",
              "      <th>INDUS</th>\n",
              "      <th>CHAS</th>\n",
              "      <th>NOX</th>\n",
              "      <th>RM</th>\n",
              "      <th>AGE</th>\n",
              "      <th>DIS</th>\n",
              "      <th>RAD</th>\n",
              "      <th>TAX</th>\n",
              "      <th>PTRATIO</th>\n",
              "      <th>B</th>\n",
              "      <th>LSTAT</th>\n",
              "      <th>Price</th>\n",
              "    </tr>\n",
              "  </thead>\n",
              "  <tbody>\n",
              "    <tr>\n",
              "      <th>0</th>\n",
              "      <td>0.00632</td>\n",
              "      <td>18.0</td>\n",
              "      <td>2.31</td>\n",
              "      <td>0.0</td>\n",
              "      <td>0.538</td>\n",
              "      <td>6.575</td>\n",
              "      <td>65.2</td>\n",
              "      <td>4.0900</td>\n",
              "      <td>1.0</td>\n",
              "      <td>296.0</td>\n",
              "      <td>15.3</td>\n",
              "      <td>396.90</td>\n",
              "      <td>4.98</td>\n",
              "      <td>24.0</td>\n",
              "    </tr>\n",
              "    <tr>\n",
              "      <th>1</th>\n",
              "      <td>0.02731</td>\n",
              "      <td>0.0</td>\n",
              "      <td>7.07</td>\n",
              "      <td>0.0</td>\n",
              "      <td>0.469</td>\n",
              "      <td>6.421</td>\n",
              "      <td>78.9</td>\n",
              "      <td>4.9671</td>\n",
              "      <td>2.0</td>\n",
              "      <td>242.0</td>\n",
              "      <td>17.8</td>\n",
              "      <td>396.90</td>\n",
              "      <td>9.14</td>\n",
              "      <td>21.6</td>\n",
              "    </tr>\n",
              "    <tr>\n",
              "      <th>2</th>\n",
              "      <td>0.02729</td>\n",
              "      <td>0.0</td>\n",
              "      <td>7.07</td>\n",
              "      <td>0.0</td>\n",
              "      <td>0.469</td>\n",
              "      <td>7.185</td>\n",
              "      <td>61.1</td>\n",
              "      <td>4.9671</td>\n",
              "      <td>2.0</td>\n",
              "      <td>242.0</td>\n",
              "      <td>17.8</td>\n",
              "      <td>392.83</td>\n",
              "      <td>4.03</td>\n",
              "      <td>34.7</td>\n",
              "    </tr>\n",
              "    <tr>\n",
              "      <th>3</th>\n",
              "      <td>0.03237</td>\n",
              "      <td>0.0</td>\n",
              "      <td>2.18</td>\n",
              "      <td>0.0</td>\n",
              "      <td>0.458</td>\n",
              "      <td>6.998</td>\n",
              "      <td>45.8</td>\n",
              "      <td>6.0622</td>\n",
              "      <td>3.0</td>\n",
              "      <td>222.0</td>\n",
              "      <td>18.7</td>\n",
              "      <td>394.63</td>\n",
              "      <td>2.94</td>\n",
              "      <td>33.4</td>\n",
              "    </tr>\n",
              "    <tr>\n",
              "      <th>4</th>\n",
              "      <td>0.06905</td>\n",
              "      <td>0.0</td>\n",
              "      <td>2.18</td>\n",
              "      <td>0.0</td>\n",
              "      <td>0.458</td>\n",
              "      <td>7.147</td>\n",
              "      <td>54.2</td>\n",
              "      <td>6.0622</td>\n",
              "      <td>3.0</td>\n",
              "      <td>222.0</td>\n",
              "      <td>18.7</td>\n",
              "      <td>396.90</td>\n",
              "      <td>5.33</td>\n",
              "      <td>36.2</td>\n",
              "    </tr>\n",
              "  </tbody>\n",
              "</table>\n",
              "</div>"
            ],
            "text/plain": [
              "      CRIM    ZN  INDUS  CHAS    NOX  ...    TAX  PTRATIO       B  LSTAT  Price\n",
              "0  0.00632  18.0   2.31   0.0  0.538  ...  296.0     15.3  396.90   4.98   24.0\n",
              "1  0.02731   0.0   7.07   0.0  0.469  ...  242.0     17.8  396.90   9.14   21.6\n",
              "2  0.02729   0.0   7.07   0.0  0.469  ...  242.0     17.8  392.83   4.03   34.7\n",
              "3  0.03237   0.0   2.18   0.0  0.458  ...  222.0     18.7  394.63   2.94   33.4\n",
              "4  0.06905   0.0   2.18   0.0  0.458  ...  222.0     18.7  396.90   5.33   36.2\n",
              "\n",
              "[5 rows x 14 columns]"
            ]
          },
          "metadata": {
            "tags": []
          },
          "execution_count": 125
        }
      ]
    },
    {
      "cell_type": "code",
      "metadata": {
        "colab": {
          "base_uri": "https://localhost:8080/",
          "height": 503
        },
        "id": "LmapTFx8acQd",
        "outputId": "58bc8968-c4e5-4f6b-b9c8-a8a41be0e63f"
      },
      "source": [
        "# Correlation between data\r\n",
        "columns = df_x_y.columns       # Assign column names to columns\r\n",
        "correlation = df_x_y[columns]  # Assign data frame to correlation\r\n",
        "correlation = correlation.corr()           # Find correlation\r\n",
        "\r\n",
        "# Show correlation of all features with each other\r\n",
        "display(correlation)"
      ],
      "execution_count": 126,
      "outputs": [
        {
          "output_type": "display_data",
          "data": {
            "text/html": [
              "<div>\n",
              "<style scoped>\n",
              "    .dataframe tbody tr th:only-of-type {\n",
              "        vertical-align: middle;\n",
              "    }\n",
              "\n",
              "    .dataframe tbody tr th {\n",
              "        vertical-align: top;\n",
              "    }\n",
              "\n",
              "    .dataframe thead th {\n",
              "        text-align: right;\n",
              "    }\n",
              "</style>\n",
              "<table border=\"1\" class=\"dataframe\">\n",
              "  <thead>\n",
              "    <tr style=\"text-align: right;\">\n",
              "      <th></th>\n",
              "      <th>CRIM</th>\n",
              "      <th>ZN</th>\n",
              "      <th>INDUS</th>\n",
              "      <th>CHAS</th>\n",
              "      <th>NOX</th>\n",
              "      <th>RM</th>\n",
              "      <th>AGE</th>\n",
              "      <th>DIS</th>\n",
              "      <th>RAD</th>\n",
              "      <th>TAX</th>\n",
              "      <th>PTRATIO</th>\n",
              "      <th>B</th>\n",
              "      <th>LSTAT</th>\n",
              "      <th>Price</th>\n",
              "    </tr>\n",
              "  </thead>\n",
              "  <tbody>\n",
              "    <tr>\n",
              "      <th>CRIM</th>\n",
              "      <td>1.000000</td>\n",
              "      <td>-0.200469</td>\n",
              "      <td>0.406583</td>\n",
              "      <td>-0.055892</td>\n",
              "      <td>0.420972</td>\n",
              "      <td>-0.219247</td>\n",
              "      <td>0.352734</td>\n",
              "      <td>-0.379670</td>\n",
              "      <td>0.625505</td>\n",
              "      <td>0.582764</td>\n",
              "      <td>0.289946</td>\n",
              "      <td>-0.385064</td>\n",
              "      <td>0.455621</td>\n",
              "      <td>-0.388305</td>\n",
              "    </tr>\n",
              "    <tr>\n",
              "      <th>ZN</th>\n",
              "      <td>-0.200469</td>\n",
              "      <td>1.000000</td>\n",
              "      <td>-0.533828</td>\n",
              "      <td>-0.042697</td>\n",
              "      <td>-0.516604</td>\n",
              "      <td>0.311991</td>\n",
              "      <td>-0.569537</td>\n",
              "      <td>0.664408</td>\n",
              "      <td>-0.311948</td>\n",
              "      <td>-0.314563</td>\n",
              "      <td>-0.391679</td>\n",
              "      <td>0.175520</td>\n",
              "      <td>-0.412995</td>\n",
              "      <td>0.360445</td>\n",
              "    </tr>\n",
              "    <tr>\n",
              "      <th>INDUS</th>\n",
              "      <td>0.406583</td>\n",
              "      <td>-0.533828</td>\n",
              "      <td>1.000000</td>\n",
              "      <td>0.062938</td>\n",
              "      <td>0.763651</td>\n",
              "      <td>-0.391676</td>\n",
              "      <td>0.644779</td>\n",
              "      <td>-0.708027</td>\n",
              "      <td>0.595129</td>\n",
              "      <td>0.720760</td>\n",
              "      <td>0.383248</td>\n",
              "      <td>-0.356977</td>\n",
              "      <td>0.603800</td>\n",
              "      <td>-0.483725</td>\n",
              "    </tr>\n",
              "    <tr>\n",
              "      <th>CHAS</th>\n",
              "      <td>-0.055892</td>\n",
              "      <td>-0.042697</td>\n",
              "      <td>0.062938</td>\n",
              "      <td>1.000000</td>\n",
              "      <td>0.091203</td>\n",
              "      <td>0.091251</td>\n",
              "      <td>0.086518</td>\n",
              "      <td>-0.099176</td>\n",
              "      <td>-0.007368</td>\n",
              "      <td>-0.035587</td>\n",
              "      <td>-0.121515</td>\n",
              "      <td>0.048788</td>\n",
              "      <td>-0.053929</td>\n",
              "      <td>0.175260</td>\n",
              "    </tr>\n",
              "    <tr>\n",
              "      <th>NOX</th>\n",
              "      <td>0.420972</td>\n",
              "      <td>-0.516604</td>\n",
              "      <td>0.763651</td>\n",
              "      <td>0.091203</td>\n",
              "      <td>1.000000</td>\n",
              "      <td>-0.302188</td>\n",
              "      <td>0.731470</td>\n",
              "      <td>-0.769230</td>\n",
              "      <td>0.611441</td>\n",
              "      <td>0.668023</td>\n",
              "      <td>0.188933</td>\n",
              "      <td>-0.380051</td>\n",
              "      <td>0.590879</td>\n",
              "      <td>-0.427321</td>\n",
              "    </tr>\n",
              "    <tr>\n",
              "      <th>RM</th>\n",
              "      <td>-0.219247</td>\n",
              "      <td>0.311991</td>\n",
              "      <td>-0.391676</td>\n",
              "      <td>0.091251</td>\n",
              "      <td>-0.302188</td>\n",
              "      <td>1.000000</td>\n",
              "      <td>-0.240265</td>\n",
              "      <td>0.205246</td>\n",
              "      <td>-0.209847</td>\n",
              "      <td>-0.292048</td>\n",
              "      <td>-0.355501</td>\n",
              "      <td>0.128069</td>\n",
              "      <td>-0.613808</td>\n",
              "      <td>0.695360</td>\n",
              "    </tr>\n",
              "    <tr>\n",
              "      <th>AGE</th>\n",
              "      <td>0.352734</td>\n",
              "      <td>-0.569537</td>\n",
              "      <td>0.644779</td>\n",
              "      <td>0.086518</td>\n",
              "      <td>0.731470</td>\n",
              "      <td>-0.240265</td>\n",
              "      <td>1.000000</td>\n",
              "      <td>-0.747881</td>\n",
              "      <td>0.456022</td>\n",
              "      <td>0.506456</td>\n",
              "      <td>0.261515</td>\n",
              "      <td>-0.273534</td>\n",
              "      <td>0.602339</td>\n",
              "      <td>-0.376955</td>\n",
              "    </tr>\n",
              "    <tr>\n",
              "      <th>DIS</th>\n",
              "      <td>-0.379670</td>\n",
              "      <td>0.664408</td>\n",
              "      <td>-0.708027</td>\n",
              "      <td>-0.099176</td>\n",
              "      <td>-0.769230</td>\n",
              "      <td>0.205246</td>\n",
              "      <td>-0.747881</td>\n",
              "      <td>1.000000</td>\n",
              "      <td>-0.494588</td>\n",
              "      <td>-0.534432</td>\n",
              "      <td>-0.232471</td>\n",
              "      <td>0.291512</td>\n",
              "      <td>-0.496996</td>\n",
              "      <td>0.249929</td>\n",
              "    </tr>\n",
              "    <tr>\n",
              "      <th>RAD</th>\n",
              "      <td>0.625505</td>\n",
              "      <td>-0.311948</td>\n",
              "      <td>0.595129</td>\n",
              "      <td>-0.007368</td>\n",
              "      <td>0.611441</td>\n",
              "      <td>-0.209847</td>\n",
              "      <td>0.456022</td>\n",
              "      <td>-0.494588</td>\n",
              "      <td>1.000000</td>\n",
              "      <td>0.910228</td>\n",
              "      <td>0.464741</td>\n",
              "      <td>-0.444413</td>\n",
              "      <td>0.488676</td>\n",
              "      <td>-0.381626</td>\n",
              "    </tr>\n",
              "    <tr>\n",
              "      <th>TAX</th>\n",
              "      <td>0.582764</td>\n",
              "      <td>-0.314563</td>\n",
              "      <td>0.720760</td>\n",
              "      <td>-0.035587</td>\n",
              "      <td>0.668023</td>\n",
              "      <td>-0.292048</td>\n",
              "      <td>0.506456</td>\n",
              "      <td>-0.534432</td>\n",
              "      <td>0.910228</td>\n",
              "      <td>1.000000</td>\n",
              "      <td>0.460853</td>\n",
              "      <td>-0.441808</td>\n",
              "      <td>0.543993</td>\n",
              "      <td>-0.468536</td>\n",
              "    </tr>\n",
              "    <tr>\n",
              "      <th>PTRATIO</th>\n",
              "      <td>0.289946</td>\n",
              "      <td>-0.391679</td>\n",
              "      <td>0.383248</td>\n",
              "      <td>-0.121515</td>\n",
              "      <td>0.188933</td>\n",
              "      <td>-0.355501</td>\n",
              "      <td>0.261515</td>\n",
              "      <td>-0.232471</td>\n",
              "      <td>0.464741</td>\n",
              "      <td>0.460853</td>\n",
              "      <td>1.000000</td>\n",
              "      <td>-0.177383</td>\n",
              "      <td>0.374044</td>\n",
              "      <td>-0.507787</td>\n",
              "    </tr>\n",
              "    <tr>\n",
              "      <th>B</th>\n",
              "      <td>-0.385064</td>\n",
              "      <td>0.175520</td>\n",
              "      <td>-0.356977</td>\n",
              "      <td>0.048788</td>\n",
              "      <td>-0.380051</td>\n",
              "      <td>0.128069</td>\n",
              "      <td>-0.273534</td>\n",
              "      <td>0.291512</td>\n",
              "      <td>-0.444413</td>\n",
              "      <td>-0.441808</td>\n",
              "      <td>-0.177383</td>\n",
              "      <td>1.000000</td>\n",
              "      <td>-0.366087</td>\n",
              "      <td>0.333461</td>\n",
              "    </tr>\n",
              "    <tr>\n",
              "      <th>LSTAT</th>\n",
              "      <td>0.455621</td>\n",
              "      <td>-0.412995</td>\n",
              "      <td>0.603800</td>\n",
              "      <td>-0.053929</td>\n",
              "      <td>0.590879</td>\n",
              "      <td>-0.613808</td>\n",
              "      <td>0.602339</td>\n",
              "      <td>-0.496996</td>\n",
              "      <td>0.488676</td>\n",
              "      <td>0.543993</td>\n",
              "      <td>0.374044</td>\n",
              "      <td>-0.366087</td>\n",
              "      <td>1.000000</td>\n",
              "      <td>-0.737663</td>\n",
              "    </tr>\n",
              "    <tr>\n",
              "      <th>Price</th>\n",
              "      <td>-0.388305</td>\n",
              "      <td>0.360445</td>\n",
              "      <td>-0.483725</td>\n",
              "      <td>0.175260</td>\n",
              "      <td>-0.427321</td>\n",
              "      <td>0.695360</td>\n",
              "      <td>-0.376955</td>\n",
              "      <td>0.249929</td>\n",
              "      <td>-0.381626</td>\n",
              "      <td>-0.468536</td>\n",
              "      <td>-0.507787</td>\n",
              "      <td>0.333461</td>\n",
              "      <td>-0.737663</td>\n",
              "      <td>1.000000</td>\n",
              "    </tr>\n",
              "  </tbody>\n",
              "</table>\n",
              "</div>"
            ],
            "text/plain": [
              "             CRIM        ZN     INDUS  ...         B     LSTAT     Price\n",
              "CRIM     1.000000 -0.200469  0.406583  ... -0.385064  0.455621 -0.388305\n",
              "ZN      -0.200469  1.000000 -0.533828  ...  0.175520 -0.412995  0.360445\n",
              "INDUS    0.406583 -0.533828  1.000000  ... -0.356977  0.603800 -0.483725\n",
              "CHAS    -0.055892 -0.042697  0.062938  ...  0.048788 -0.053929  0.175260\n",
              "NOX      0.420972 -0.516604  0.763651  ... -0.380051  0.590879 -0.427321\n",
              "RM      -0.219247  0.311991 -0.391676  ...  0.128069 -0.613808  0.695360\n",
              "AGE      0.352734 -0.569537  0.644779  ... -0.273534  0.602339 -0.376955\n",
              "DIS     -0.379670  0.664408 -0.708027  ...  0.291512 -0.496996  0.249929\n",
              "RAD      0.625505 -0.311948  0.595129  ... -0.444413  0.488676 -0.381626\n",
              "TAX      0.582764 -0.314563  0.720760  ... -0.441808  0.543993 -0.468536\n",
              "PTRATIO  0.289946 -0.391679  0.383248  ... -0.177383  0.374044 -0.507787\n",
              "B       -0.385064  0.175520 -0.356977  ...  1.000000 -0.366087  0.333461\n",
              "LSTAT    0.455621 -0.412995  0.603800  ... -0.366087  1.000000 -0.737663\n",
              "Price   -0.388305  0.360445 -0.483725  ...  0.333461 -0.737663  1.000000\n",
              "\n",
              "[14 rows x 14 columns]"
            ]
          },
          "metadata": {
            "tags": []
          }
        }
      ]
    },
    {
      "cell_type": "code",
      "metadata": {
        "colab": {
          "base_uri": "https://localhost:8080/"
        },
        "id": "HYMRfDFUkAVS",
        "outputId": "a301d55f-8d6d-428b-9924-3924c9c1a242"
      },
      "source": [
        "# Correlation with respect to price\r\n",
        "correlation['Price']"
      ],
      "execution_count": 127,
      "outputs": [
        {
          "output_type": "execute_result",
          "data": {
            "text/plain": [
              "CRIM      -0.388305\n",
              "ZN         0.360445\n",
              "INDUS     -0.483725\n",
              "CHAS       0.175260\n",
              "NOX       -0.427321\n",
              "RM         0.695360\n",
              "AGE       -0.376955\n",
              "DIS        0.249929\n",
              "RAD       -0.381626\n",
              "TAX       -0.468536\n",
              "PTRATIO   -0.507787\n",
              "B          0.333461\n",
              "LSTAT     -0.737663\n",
              "Price      1.000000\n",
              "Name: Price, dtype: float64"
            ]
          },
          "metadata": {
            "tags": []
          },
          "execution_count": 127
        }
      ]
    },
    {
      "cell_type": "code",
      "metadata": {
        "colab": {
          "base_uri": "https://localhost:8080/",
          "height": 91
        },
        "id": "ZBhJfdF-ltND",
        "outputId": "fd90c4bf-85e6-4cd6-fd47-f77a9619d159"
      },
      "source": [
        "# Visualization of All independent variable with dependent variable column (Price)\r\n",
        "sns.pairplot(data = df_x_y, x_vars=['CRIM', 'ZN', 'INDUS', 'CHAS', 'NOX',\t'RM', 'AGE', 'DIS', 'RAD', 'TAX', 'PTRATIO', 'B', 'LSTAT'], y_vars=['Price'], height= 2)\r\n",
        "plt.show()"
      ],
      "execution_count": 128,
      "outputs": [
        {
          "output_type": "display_data",
          "data": {
            "image/png": "[encoded data removed]",
            "text/plain": [
              "<Figure size 1872x144 with 13 Axes>"
            ]
          },
          "metadata": {
            "tags": [],
            "needs_background": "light"
          }
        }
      ]
    },
    {
      "cell_type": "code",
      "metadata": {
        "colab": {
          "base_uri": "https://localhost:8080/",
          "height": 596
        },
        "id": "70fjqsctlJUN",
        "outputId": "597a78ca-fb3c-47dc-a35c-b1a0f5e6c46b"
      },
      "source": [
        "# Visualization of correlation matrix heatmap \r\n",
        "plt.figure(figsize=(12,10))\r\n",
        "sns.heatmap(correlation, annot = True)\r\n",
        "plt.show()"
      ],
      "execution_count": 129,
      "outputs": [
        {
          "output_type": "display_data",
          "data": {
            "image/png": "[encoded data removed]",
            "text/plain": [
              "<Figure size 864x720 with 2 Axes>"
            ]
          },
          "metadata": {
            "tags": [],
            "needs_background": "light"
          }
        }
      ]
    },
    {
      "cell_type": "markdown",
      "metadata": {
        "id": "KMdcZox-r-c9"
      },
      "source": [
        "#### **RFE(Recursive feature elimination)**"
      ]
    },
    {
      "cell_type": "code",
      "metadata": {
        "colab": {
          "base_uri": "https://localhost:8080/"
        },
        "id": "NMe81S7UsF5K",
        "outputId": "6306aa9b-bc42-44c2-ed59-8e6e79ed6aa1"
      },
      "source": [
        "from sklearn.feature_selection import RFE\r\n",
        "\r\n",
        "# RFE on model with 10 features to accept\r\n",
        "rfe = RFE(estimator = model, n_features_to_select = 10)\r\n",
        "rfe = rfe.fit(x_train, y_train)\r\n",
        "\r\n",
        "# RFE support(true/False)\r\n",
        "print('RFE support:\\n',rfe.support_, '\\n', '-'*70)\r\n",
        "\r\n",
        "# RFE ranking(true/False)\r\n",
        "print('RFE ranking:\\n',rfe.ranking_)"
      ],
      "execution_count": 130,
      "outputs": [
        {
          "output_type": "stream",
          "text": [
            "RFE support:\n",
            " [ True  True False  True  True  True False  True  True  True  True False\n",
            "  True] \n",
            " ----------------------------------------------------------------------\n",
            "RFE ranking:\n",
            " [1 1 4 1 1 1 2 1 1 1 1 3 1]\n"
          ],
          "name": "stdout"
        },
        {
          "output_type": "stream",
          "text": [
            "/usr/local/lib/python3.6/dist-packages/sklearn/utils/validation.py:760: DataConversionWarning: A column-vector y was passed when a 1d array was expected. Please change the shape of y to (n_samples, ), for example using ravel().\n",
            "  y = column_or_1d(y, warn=True)\n"
          ],
          "name": "stderr"
        }
      ]
    },
    {
      "cell_type": "code",
      "metadata": {
        "colab": {
          "base_uri": "https://localhost:8080/",
          "height": 452
        },
        "id": "ITk8W69ZC5aH",
        "outputId": "da003ac4-86ab-4ea4-b5c3-d1b618185476"
      },
      "source": [
        "# Support in data frame format\r\n",
        "pd.DataFrame(rfe.support_,index=x_train.columns,columns=['Rank'])"
      ],
      "execution_count": 131,
      "outputs": [
        {
          "output_type": "execute_result",
          "data": {
            "text/html": [
              "<div>\n",
              "<style scoped>\n",
              "    .dataframe tbody tr th:only-of-type {\n",
              "        vertical-align: middle;\n",
              "    }\n",
              "\n",
              "    .dataframe tbody tr th {\n",
              "        vertical-align: top;\n",
              "    }\n",
              "\n",
              "    .dataframe thead th {\n",
              "        text-align: right;\n",
              "    }\n",
              "</style>\n",
              "<table border=\"1\" class=\"dataframe\">\n",
              "  <thead>\n",
              "    <tr style=\"text-align: right;\">\n",
              "      <th></th>\n",
              "      <th>Rank</th>\n",
              "    </tr>\n",
              "  </thead>\n",
              "  <tbody>\n",
              "    <tr>\n",
              "      <th>CRIM</th>\n",
              "      <td>True</td>\n",
              "    </tr>\n",
              "    <tr>\n",
              "      <th>ZN</th>\n",
              "      <td>True</td>\n",
              "    </tr>\n",
              "    <tr>\n",
              "      <th>INDUS</th>\n",
              "      <td>False</td>\n",
              "    </tr>\n",
              "    <tr>\n",
              "      <th>CHAS</th>\n",
              "      <td>True</td>\n",
              "    </tr>\n",
              "    <tr>\n",
              "      <th>NOX</th>\n",
              "      <td>True</td>\n",
              "    </tr>\n",
              "    <tr>\n",
              "      <th>RM</th>\n",
              "      <td>True</td>\n",
              "    </tr>\n",
              "    <tr>\n",
              "      <th>AGE</th>\n",
              "      <td>False</td>\n",
              "    </tr>\n",
              "    <tr>\n",
              "      <th>DIS</th>\n",
              "      <td>True</td>\n",
              "    </tr>\n",
              "    <tr>\n",
              "      <th>RAD</th>\n",
              "      <td>True</td>\n",
              "    </tr>\n",
              "    <tr>\n",
              "      <th>TAX</th>\n",
              "      <td>True</td>\n",
              "    </tr>\n",
              "    <tr>\n",
              "      <th>PTRATIO</th>\n",
              "      <td>True</td>\n",
              "    </tr>\n",
              "    <tr>\n",
              "      <th>B</th>\n",
              "      <td>False</td>\n",
              "    </tr>\n",
              "    <tr>\n",
              "      <th>LSTAT</th>\n",
              "      <td>True</td>\n",
              "    </tr>\n",
              "  </tbody>\n",
              "</table>\n",
              "</div>"
            ],
            "text/plain": [
              "          Rank\n",
              "CRIM      True\n",
              "ZN        True\n",
              "INDUS    False\n",
              "CHAS      True\n",
              "NOX       True\n",
              "RM        True\n",
              "AGE      False\n",
              "DIS       True\n",
              "RAD       True\n",
              "TAX       True\n",
              "PTRATIO   True\n",
              "B        False\n",
              "LSTAT     True"
            ]
          },
          "metadata": {
            "tags": []
          },
          "execution_count": 131
        }
      ]
    },
    {
      "cell_type": "code",
      "metadata": {
        "colab": {
          "base_uri": "https://localhost:8080/",
          "height": 452
        },
        "id": "EaU2cxltsFo9",
        "outputId": "971f39c2-9213-42f4-bd50-524d90c416f3"
      },
      "source": [
        "# Ranking in data frame format\r\n",
        "pd.DataFrame(rfe.ranking_, index= x_train.columns,columns=['Rank']).sort_values(by= 'Rank',ascending= True)"
      ],
      "execution_count": 132,
      "outputs": [
        {
          "output_type": "execute_result",
          "data": {
            "text/html": [
              "<div>\n",
              "<style scoped>\n",
              "    .dataframe tbody tr th:only-of-type {\n",
              "        vertical-align: middle;\n",
              "    }\n",
              "\n",
              "    .dataframe tbody tr th {\n",
              "        vertical-align: top;\n",
              "    }\n",
              "\n",
              "    .dataframe thead th {\n",
              "        text-align: right;\n",
              "    }\n",
              "</style>\n",
              "<table border=\"1\" class=\"dataframe\">\n",
              "  <thead>\n",
              "    <tr style=\"text-align: right;\">\n",
              "      <th></th>\n",
              "      <th>Rank</th>\n",
              "    </tr>\n",
              "  </thead>\n",
              "  <tbody>\n",
              "    <tr>\n",
              "      <th>CRIM</th>\n",
              "      <td>1</td>\n",
              "    </tr>\n",
              "    <tr>\n",
              "      <th>ZN</th>\n",
              "      <td>1</td>\n",
              "    </tr>\n",
              "    <tr>\n",
              "      <th>CHAS</th>\n",
              "      <td>1</td>\n",
              "    </tr>\n",
              "    <tr>\n",
              "      <th>NOX</th>\n",
              "      <td>1</td>\n",
              "    </tr>\n",
              "    <tr>\n",
              "      <th>RM</th>\n",
              "      <td>1</td>\n",
              "    </tr>\n",
              "    <tr>\n",
              "      <th>DIS</th>\n",
              "      <td>1</td>\n",
              "    </tr>\n",
              "    <tr>\n",
              "      <th>RAD</th>\n",
              "      <td>1</td>\n",
              "    </tr>\n",
              "    <tr>\n",
              "      <th>TAX</th>\n",
              "      <td>1</td>\n",
              "    </tr>\n",
              "    <tr>\n",
              "      <th>PTRATIO</th>\n",
              "      <td>1</td>\n",
              "    </tr>\n",
              "    <tr>\n",
              "      <th>LSTAT</th>\n",
              "      <td>1</td>\n",
              "    </tr>\n",
              "    <tr>\n",
              "      <th>AGE</th>\n",
              "      <td>2</td>\n",
              "    </tr>\n",
              "    <tr>\n",
              "      <th>B</th>\n",
              "      <td>3</td>\n",
              "    </tr>\n",
              "    <tr>\n",
              "      <th>INDUS</th>\n",
              "      <td>4</td>\n",
              "    </tr>\n",
              "  </tbody>\n",
              "</table>\n",
              "</div>"
            ],
            "text/plain": [
              "         Rank\n",
              "CRIM        1\n",
              "ZN          1\n",
              "CHAS        1\n",
              "NOX         1\n",
              "RM          1\n",
              "DIS         1\n",
              "RAD         1\n",
              "TAX         1\n",
              "PTRATIO     1\n",
              "LSTAT       1\n",
              "AGE         2\n",
              "B           3\n",
              "INDUS       4"
            ]
          },
          "metadata": {
            "tags": []
          },
          "execution_count": 132
        }
      ]
    },
    {
      "cell_type": "markdown",
      "metadata": {
        "id": "lDWoMwXUgiB4"
      },
      "source": [
        "#### **P-value**"
      ]
    },
    {
      "cell_type": "code",
      "metadata": {
        "id": "vUpHyKyQgoIm"
      },
      "source": [
        "import statsmodels.api as sm\r\n",
        "\r\n",
        "x_train_sm = x_train\r\n",
        "x_train_sm = sm.add_constant(x_train_sm)"
      ],
      "execution_count": 133,
      "outputs": []
    },
    {
      "cell_type": "code",
      "metadata": {
        "colab": {
          "base_uri": "https://localhost:8080/",
          "height": 204
        },
        "id": "nlx3l6VzhJ6W",
        "outputId": "34d32bd5-bcf7-41ec-bea6-9d291a8815da"
      },
      "source": [
        "x_train.iloc[:5]"
      ],
      "execution_count": 134,
      "outputs": [
        {
          "output_type": "execute_result",
          "data": {
            "text/html": [
              "<div>\n",
              "<style scoped>\n",
              "    .dataframe tbody tr th:only-of-type {\n",
              "        vertical-align: middle;\n",
              "    }\n",
              "\n",
              "    .dataframe tbody tr th {\n",
              "        vertical-align: top;\n",
              "    }\n",
              "\n",
              "    .dataframe thead th {\n",
              "        text-align: right;\n",
              "    }\n",
              "</style>\n",
              "<table border=\"1\" class=\"dataframe\">\n",
              "  <thead>\n",
              "    <tr style=\"text-align: right;\">\n",
              "      <th></th>\n",
              "      <th>CRIM</th>\n",
              "      <th>ZN</th>\n",
              "      <th>INDUS</th>\n",
              "      <th>CHAS</th>\n",
              "      <th>NOX</th>\n",
              "      <th>RM</th>\n",
              "      <th>AGE</th>\n",
              "      <th>DIS</th>\n",
              "      <th>RAD</th>\n",
              "      <th>TAX</th>\n",
              "      <th>PTRATIO</th>\n",
              "      <th>B</th>\n",
              "      <th>LSTAT</th>\n",
              "    </tr>\n",
              "  </thead>\n",
              "  <tbody>\n",
              "    <tr>\n",
              "      <th>271</th>\n",
              "      <td>0.16211</td>\n",
              "      <td>20.0</td>\n",
              "      <td>6.96</td>\n",
              "      <td>0.0</td>\n",
              "      <td>0.464</td>\n",
              "      <td>6.240</td>\n",
              "      <td>16.3</td>\n",
              "      <td>4.4290</td>\n",
              "      <td>3.0</td>\n",
              "      <td>223.0</td>\n",
              "      <td>18.6</td>\n",
              "      <td>396.90</td>\n",
              "      <td>6.59</td>\n",
              "    </tr>\n",
              "    <tr>\n",
              "      <th>355</th>\n",
              "      <td>0.10659</td>\n",
              "      <td>80.0</td>\n",
              "      <td>1.91</td>\n",
              "      <td>0.0</td>\n",
              "      <td>0.413</td>\n",
              "      <td>5.936</td>\n",
              "      <td>19.5</td>\n",
              "      <td>10.5857</td>\n",
              "      <td>4.0</td>\n",
              "      <td>334.0</td>\n",
              "      <td>22.0</td>\n",
              "      <td>376.04</td>\n",
              "      <td>5.57</td>\n",
              "    </tr>\n",
              "    <tr>\n",
              "      <th>127</th>\n",
              "      <td>0.25915</td>\n",
              "      <td>0.0</td>\n",
              "      <td>21.89</td>\n",
              "      <td>0.0</td>\n",
              "      <td>0.624</td>\n",
              "      <td>5.693</td>\n",
              "      <td>96.0</td>\n",
              "      <td>1.7883</td>\n",
              "      <td>4.0</td>\n",
              "      <td>437.0</td>\n",
              "      <td>21.2</td>\n",
              "      <td>392.11</td>\n",
              "      <td>17.19</td>\n",
              "    </tr>\n",
              "    <tr>\n",
              "      <th>217</th>\n",
              "      <td>0.07013</td>\n",
              "      <td>0.0</td>\n",
              "      <td>13.89</td>\n",
              "      <td>0.0</td>\n",
              "      <td>0.550</td>\n",
              "      <td>6.642</td>\n",
              "      <td>85.1</td>\n",
              "      <td>3.4211</td>\n",
              "      <td>5.0</td>\n",
              "      <td>276.0</td>\n",
              "      <td>16.4</td>\n",
              "      <td>392.78</td>\n",
              "      <td>9.69</td>\n",
              "    </tr>\n",
              "    <tr>\n",
              "      <th>285</th>\n",
              "      <td>0.01096</td>\n",
              "      <td>55.0</td>\n",
              "      <td>2.25</td>\n",
              "      <td>0.0</td>\n",
              "      <td>0.389</td>\n",
              "      <td>6.453</td>\n",
              "      <td>31.9</td>\n",
              "      <td>7.3073</td>\n",
              "      <td>1.0</td>\n",
              "      <td>300.0</td>\n",
              "      <td>15.3</td>\n",
              "      <td>394.72</td>\n",
              "      <td>8.23</td>\n",
              "    </tr>\n",
              "  </tbody>\n",
              "</table>\n",
              "</div>"
            ],
            "text/plain": [
              "        CRIM    ZN  INDUS  CHAS    NOX  ...  RAD    TAX  PTRATIO       B  LSTAT\n",
              "271  0.16211  20.0   6.96   0.0  0.464  ...  3.0  223.0     18.6  396.90   6.59\n",
              "355  0.10659  80.0   1.91   0.0  0.413  ...  4.0  334.0     22.0  376.04   5.57\n",
              "127  0.25915   0.0  21.89   0.0  0.624  ...  4.0  437.0     21.2  392.11  17.19\n",
              "217  0.07013   0.0  13.89   0.0  0.550  ...  5.0  276.0     16.4  392.78   9.69\n",
              "285  0.01096  55.0   2.25   0.0  0.389  ...  1.0  300.0     15.3  394.72   8.23\n",
              "\n",
              "[5 rows x 13 columns]"
            ]
          },
          "metadata": {
            "tags": []
          },
          "execution_count": 134
        }
      ]
    },
    {
      "cell_type": "code",
      "metadata": {
        "colab": {
          "base_uri": "https://localhost:8080/",
          "height": 204
        },
        "id": "Bkktv954hRGQ",
        "outputId": "69e16643-6e1c-4af6-eead-dcd950b40225"
      },
      "source": [
        "# After adding constant by Stats model\r\n",
        "x_train_sm.iloc[:5]"
      ],
      "execution_count": 135,
      "outputs": [
        {
          "output_type": "execute_result",
          "data": {
            "text/html": [
              "<div>\n",
              "<style scoped>\n",
              "    .dataframe tbody tr th:only-of-type {\n",
              "        vertical-align: middle;\n",
              "    }\n",
              "\n",
              "    .dataframe tbody tr th {\n",
              "        vertical-align: top;\n",
              "    }\n",
              "\n",
              "    .dataframe thead th {\n",
              "        text-align: right;\n",
              "    }\n",
              "</style>\n",
              "<table border=\"1\" class=\"dataframe\">\n",
              "  <thead>\n",
              "    <tr style=\"text-align: right;\">\n",
              "      <th></th>\n",
              "      <th>const</th>\n",
              "      <th>CRIM</th>\n",
              "      <th>ZN</th>\n",
              "      <th>INDUS</th>\n",
              "      <th>CHAS</th>\n",
              "      <th>NOX</th>\n",
              "      <th>RM</th>\n",
              "      <th>AGE</th>\n",
              "      <th>DIS</th>\n",
              "      <th>RAD</th>\n",
              "      <th>TAX</th>\n",
              "      <th>PTRATIO</th>\n",
              "      <th>B</th>\n",
              "      <th>LSTAT</th>\n",
              "    </tr>\n",
              "  </thead>\n",
              "  <tbody>\n",
              "    <tr>\n",
              "      <th>271</th>\n",
              "      <td>1.0</td>\n",
              "      <td>0.16211</td>\n",
              "      <td>20.0</td>\n",
              "      <td>6.96</td>\n",
              "      <td>0.0</td>\n",
              "      <td>0.464</td>\n",
              "      <td>6.240</td>\n",
              "      <td>16.3</td>\n",
              "      <td>4.4290</td>\n",
              "      <td>3.0</td>\n",
              "      <td>223.0</td>\n",
              "      <td>18.6</td>\n",
              "      <td>396.90</td>\n",
              "      <td>6.59</td>\n",
              "    </tr>\n",
              "    <tr>\n",
              "      <th>355</th>\n",
              "      <td>1.0</td>\n",
              "      <td>0.10659</td>\n",
              "      <td>80.0</td>\n",
              "      <td>1.91</td>\n",
              "      <td>0.0</td>\n",
              "      <td>0.413</td>\n",
              "      <td>5.936</td>\n",
              "      <td>19.5</td>\n",
              "      <td>10.5857</td>\n",
              "      <td>4.0</td>\n",
              "      <td>334.0</td>\n",
              "      <td>22.0</td>\n",
              "      <td>376.04</td>\n",
              "      <td>5.57</td>\n",
              "    </tr>\n",
              "    <tr>\n",
              "      <th>127</th>\n",
              "      <td>1.0</td>\n",
              "      <td>0.25915</td>\n",
              "      <td>0.0</td>\n",
              "      <td>21.89</td>\n",
              "      <td>0.0</td>\n",
              "      <td>0.624</td>\n",
              "      <td>5.693</td>\n",
              "      <td>96.0</td>\n",
              "      <td>1.7883</td>\n",
              "      <td>4.0</td>\n",
              "      <td>437.0</td>\n",
              "      <td>21.2</td>\n",
              "      <td>392.11</td>\n",
              "      <td>17.19</td>\n",
              "    </tr>\n",
              "    <tr>\n",
              "      <th>217</th>\n",
              "      <td>1.0</td>\n",
              "      <td>0.07013</td>\n",
              "      <td>0.0</td>\n",
              "      <td>13.89</td>\n",
              "      <td>0.0</td>\n",
              "      <td>0.550</td>\n",
              "      <td>6.642</td>\n",
              "      <td>85.1</td>\n",
              "      <td>3.4211</td>\n",
              "      <td>5.0</td>\n",
              "      <td>276.0</td>\n",
              "      <td>16.4</td>\n",
              "      <td>392.78</td>\n",
              "      <td>9.69</td>\n",
              "    </tr>\n",
              "    <tr>\n",
              "      <th>285</th>\n",
              "      <td>1.0</td>\n",
              "      <td>0.01096</td>\n",
              "      <td>55.0</td>\n",
              "      <td>2.25</td>\n",
              "      <td>0.0</td>\n",
              "      <td>0.389</td>\n",
              "      <td>6.453</td>\n",
              "      <td>31.9</td>\n",
              "      <td>7.3073</td>\n",
              "      <td>1.0</td>\n",
              "      <td>300.0</td>\n",
              "      <td>15.3</td>\n",
              "      <td>394.72</td>\n",
              "      <td>8.23</td>\n",
              "    </tr>\n",
              "  </tbody>\n",
              "</table>\n",
              "</div>"
            ],
            "text/plain": [
              "     const     CRIM    ZN  INDUS  CHAS  ...  RAD    TAX  PTRATIO       B  LSTAT\n",
              "271    1.0  0.16211  20.0   6.96   0.0  ...  3.0  223.0     18.6  396.90   6.59\n",
              "355    1.0  0.10659  80.0   1.91   0.0  ...  4.0  334.0     22.0  376.04   5.57\n",
              "127    1.0  0.25915   0.0  21.89   0.0  ...  4.0  437.0     21.2  392.11  17.19\n",
              "217    1.0  0.07013   0.0  13.89   0.0  ...  5.0  276.0     16.4  392.78   9.69\n",
              "285    1.0  0.01096  55.0   2.25   0.0  ...  1.0  300.0     15.3  394.72   8.23\n",
              "\n",
              "[5 rows x 14 columns]"
            ]
          },
          "metadata": {
            "tags": []
          },
          "execution_count": 135
        }
      ]
    },
    {
      "cell_type": "code",
      "metadata": {
        "id": "_b5FqCqBhmcc"
      },
      "source": [
        "# Ordinary least square\r\n",
        "sm_model = sm.OLS( y_train, x_train_sm).fit()"
      ],
      "execution_count": 136,
      "outputs": []
    },
    {
      "cell_type": "code",
      "metadata": {
        "colab": {
          "base_uri": "https://localhost:8080/"
        },
        "id": "KL_x0vt2jPdp",
        "outputId": "5ab4e39a-685f-4d19-d6c4-7574d44c6a7d"
      },
      "source": [
        "sm_model.params"
      ],
      "execution_count": 137,
      "outputs": [
        {
          "output_type": "execute_result",
          "data": {
            "text/plain": [
              "const      33.939846\n",
              "CRIM       -0.070851\n",
              "ZN          0.038355\n",
              "INDUS       0.001646\n",
              "CHAS        2.680648\n",
              "NOX       -14.045753\n",
              "RM          3.879837\n",
              "AGE        -0.014732\n",
              "DIS        -1.469022\n",
              "RAD         0.272038\n",
              "TAX        -0.013890\n",
              "PTRATIO    -0.929310\n",
              "B           0.010677\n",
              "LSTAT      -0.435485\n",
              "dtype: float64"
            ]
          },
          "metadata": {
            "tags": []
          },
          "execution_count": 137
        }
      ]
    },
    {
      "cell_type": "code",
      "metadata": {
        "colab": {
          "base_uri": "https://localhost:8080/"
        },
        "id": "9ho1NM9FjZRh",
        "outputId": "c2a40b16-0c1f-4e62-9f44-c6bbc0342ab7"
      },
      "source": [
        "# Summary of OLS\r\n",
        "print(sm_model.summary())"
      ],
      "execution_count": 138,
      "outputs": [
        {
          "output_type": "stream",
          "text": [
            "                            OLS Regression Results                            \n",
            "==============================================================================\n",
            "Dep. Variable:                  Price   R-squared:                       0.758\n",
            "Model:                            OLS   Adj. R-squared:                  0.748\n",
            "Method:                 Least Squares   F-statistic:                     78.36\n",
            "Date:                Thu, 04 Feb 2021   Prob (F-statistic):           8.36e-92\n",
            "Time:                        06:13:35   Log-Likelihood:                -980.85\n",
            "No. Observations:                 339   AIC:                             1990.\n",
            "Df Residuals:                     325   BIC:                             2043.\n",
            "Df Model:                          13                                         \n",
            "Covariance Type:            nonrobust                                         \n",
            "==============================================================================\n",
            "                 coef    std err          t      P>|t|      [0.025      0.975]\n",
            "------------------------------------------------------------------------------\n",
            "const         33.9398      5.729      5.925      0.000      22.670      45.210\n",
            "CRIM          -0.0709      0.043     -1.635      0.103      -0.156       0.014\n",
            "ZN             0.0384      0.016      2.471      0.014       0.008       0.069\n",
            "INDUS          0.0016      0.074      0.022      0.982      -0.144       0.147\n",
            "CHAS           2.6806      0.955      2.807      0.005       0.802       4.559\n",
            "NOX          -14.0458      4.376     -3.209      0.001     -22.655      -5.436\n",
            "RM             3.8798      0.470      8.262      0.000       2.956       4.804\n",
            "AGE           -0.0147      0.016     -0.950      0.343      -0.045       0.016\n",
            "DIS           -1.4690      0.233     -6.299      0.000      -1.928      -1.010\n",
            "RAD            0.2720      0.079      3.435      0.001       0.116       0.428\n",
            "TAX           -0.0139      0.005     -3.074      0.002      -0.023      -0.005\n",
            "PTRATIO       -0.9293      0.148     -6.265      0.000      -1.221      -0.637\n",
            "B              0.0107      0.003      3.469      0.001       0.005       0.017\n",
            "LSTAT         -0.4355      0.058     -7.547      0.000      -0.549      -0.322\n",
            "==============================================================================\n",
            "Omnibus:                       81.441   Durbin-Watson:                   2.034\n",
            "Prob(Omnibus):                  0.000   Jarque-Bera (JB):              197.059\n",
            "Skew:                           1.164   Prob(JB):                     1.62e-43\n",
            "Kurtosis:                       5.921   Cond. No.                     1.47e+04\n",
            "==============================================================================\n",
            "\n",
            "Warnings:\n",
            "[1] Standard Errors assume that the covariance matrix of the errors is correctly specified.\n",
            "[2] The condition number is large, 1.47e+04. This might indicate that there are\n",
            "strong multicollinearity or other numerical problems.\n"
          ],
          "name": "stdout"
        }
      ]
    },
    {
      "cell_type": "markdown",
      "metadata": {
        "id": "MigxxIDzn-ec"
      },
      "source": [
        "### **Features cleaning**"
      ]
    },
    {
      "cell_type": "code",
      "metadata": {
        "colab": {
          "base_uri": "https://localhost:8080/",
          "height": 204
        },
        "id": "P-2XWc1kn7LG",
        "outputId": "da85b447-d7f4-49ec-cad5-b2254dca566c"
      },
      "source": [
        "# Drop all uncessary columns in train data or that have not enough impact on our target variable\r\n",
        "x_train_drop_col = x_train.drop(['CRIM', 'INDUS', 'AGE'], axis=1)\r\n",
        "x_train_drop_col.head()"
      ],
      "execution_count": 139,
      "outputs": [
        {
          "output_type": "execute_result",
          "data": {
            "text/html": [
              "<div>\n",
              "<style scoped>\n",
              "    .dataframe tbody tr th:only-of-type {\n",
              "        vertical-align: middle;\n",
              "    }\n",
              "\n",
              "    .dataframe tbody tr th {\n",
              "        vertical-align: top;\n",
              "    }\n",
              "\n",
              "    .dataframe thead th {\n",
              "        text-align: right;\n",
              "    }\n",
              "</style>\n",
              "<table border=\"1\" class=\"dataframe\">\n",
              "  <thead>\n",
              "    <tr style=\"text-align: right;\">\n",
              "      <th></th>\n",
              "      <th>ZN</th>\n",
              "      <th>CHAS</th>\n",
              "      <th>NOX</th>\n",
              "      <th>RM</th>\n",
              "      <th>DIS</th>\n",
              "      <th>RAD</th>\n",
              "      <th>TAX</th>\n",
              "      <th>PTRATIO</th>\n",
              "      <th>B</th>\n",
              "      <th>LSTAT</th>\n",
              "    </tr>\n",
              "  </thead>\n",
              "  <tbody>\n",
              "    <tr>\n",
              "      <th>271</th>\n",
              "      <td>20.0</td>\n",
              "      <td>0.0</td>\n",
              "      <td>0.464</td>\n",
              "      <td>6.240</td>\n",
              "      <td>4.4290</td>\n",
              "      <td>3.0</td>\n",
              "      <td>223.0</td>\n",
              "      <td>18.6</td>\n",
              "      <td>396.90</td>\n",
              "      <td>6.59</td>\n",
              "    </tr>\n",
              "    <tr>\n",
              "      <th>355</th>\n",
              "      <td>80.0</td>\n",
              "      <td>0.0</td>\n",
              "      <td>0.413</td>\n",
              "      <td>5.936</td>\n",
              "      <td>10.5857</td>\n",
              "      <td>4.0</td>\n",
              "      <td>334.0</td>\n",
              "      <td>22.0</td>\n",
              "      <td>376.04</td>\n",
              "      <td>5.57</td>\n",
              "    </tr>\n",
              "    <tr>\n",
              "      <th>127</th>\n",
              "      <td>0.0</td>\n",
              "      <td>0.0</td>\n",
              "      <td>0.624</td>\n",
              "      <td>5.693</td>\n",
              "      <td>1.7883</td>\n",
              "      <td>4.0</td>\n",
              "      <td>437.0</td>\n",
              "      <td>21.2</td>\n",
              "      <td>392.11</td>\n",
              "      <td>17.19</td>\n",
              "    </tr>\n",
              "    <tr>\n",
              "      <th>217</th>\n",
              "      <td>0.0</td>\n",
              "      <td>0.0</td>\n",
              "      <td>0.550</td>\n",
              "      <td>6.642</td>\n",
              "      <td>3.4211</td>\n",
              "      <td>5.0</td>\n",
              "      <td>276.0</td>\n",
              "      <td>16.4</td>\n",
              "      <td>392.78</td>\n",
              "      <td>9.69</td>\n",
              "    </tr>\n",
              "    <tr>\n",
              "      <th>285</th>\n",
              "      <td>55.0</td>\n",
              "      <td>0.0</td>\n",
              "      <td>0.389</td>\n",
              "      <td>6.453</td>\n",
              "      <td>7.3073</td>\n",
              "      <td>1.0</td>\n",
              "      <td>300.0</td>\n",
              "      <td>15.3</td>\n",
              "      <td>394.72</td>\n",
              "      <td>8.23</td>\n",
              "    </tr>\n",
              "  </tbody>\n",
              "</table>\n",
              "</div>"
            ],
            "text/plain": [
              "       ZN  CHAS    NOX     RM      DIS  RAD    TAX  PTRATIO       B  LSTAT\n",
              "271  20.0   0.0  0.464  6.240   4.4290  3.0  223.0     18.6  396.90   6.59\n",
              "355  80.0   0.0  0.413  5.936  10.5857  4.0  334.0     22.0  376.04   5.57\n",
              "127   0.0   0.0  0.624  5.693   1.7883  4.0  437.0     21.2  392.11  17.19\n",
              "217   0.0   0.0  0.550  6.642   3.4211  5.0  276.0     16.4  392.78   9.69\n",
              "285  55.0   0.0  0.389  6.453   7.3073  1.0  300.0     15.3  394.72   8.23"
            ]
          },
          "metadata": {
            "tags": []
          },
          "execution_count": 139
        }
      ]
    },
    {
      "cell_type": "code",
      "metadata": {
        "colab": {
          "base_uri": "https://localhost:8080/",
          "height": 204
        },
        "id": "bIgk6MgqxJqs",
        "outputId": "3fb15281-289e-4aa8-86cc-6d1549efb1f4"
      },
      "source": [
        "# Drop all uncessary columns in test data or that have not enough impact on our target variable\r\n",
        "x_test_drop_col = x_test.drop(['CRIM', 'INDUS', 'AGE'], axis=1)\r\n",
        "x_test_drop_col.head()"
      ],
      "execution_count": 140,
      "outputs": [
        {
          "output_type": "execute_result",
          "data": {
            "text/html": [
              "<div>\n",
              "<style scoped>\n",
              "    .dataframe tbody tr th:only-of-type {\n",
              "        vertical-align: middle;\n",
              "    }\n",
              "\n",
              "    .dataframe tbody tr th {\n",
              "        vertical-align: top;\n",
              "    }\n",
              "\n",
              "    .dataframe thead th {\n",
              "        text-align: right;\n",
              "    }\n",
              "</style>\n",
              "<table border=\"1\" class=\"dataframe\">\n",
              "  <thead>\n",
              "    <tr style=\"text-align: right;\">\n",
              "      <th></th>\n",
              "      <th>ZN</th>\n",
              "      <th>CHAS</th>\n",
              "      <th>NOX</th>\n",
              "      <th>RM</th>\n",
              "      <th>DIS</th>\n",
              "      <th>RAD</th>\n",
              "      <th>TAX</th>\n",
              "      <th>PTRATIO</th>\n",
              "      <th>B</th>\n",
              "      <th>LSTAT</th>\n",
              "    </tr>\n",
              "  </thead>\n",
              "  <tbody>\n",
              "    <tr>\n",
              "      <th>198</th>\n",
              "      <td>80.0</td>\n",
              "      <td>0.0</td>\n",
              "      <td>0.404</td>\n",
              "      <td>7.274</td>\n",
              "      <td>7.3090</td>\n",
              "      <td>2.0</td>\n",
              "      <td>329.0</td>\n",
              "      <td>12.6</td>\n",
              "      <td>392.20</td>\n",
              "      <td>6.62</td>\n",
              "    </tr>\n",
              "    <tr>\n",
              "      <th>229</th>\n",
              "      <td>0.0</td>\n",
              "      <td>0.0</td>\n",
              "      <td>0.504</td>\n",
              "      <td>6.552</td>\n",
              "      <td>3.3751</td>\n",
              "      <td>8.0</td>\n",
              "      <td>307.0</td>\n",
              "      <td>17.4</td>\n",
              "      <td>380.34</td>\n",
              "      <td>3.76</td>\n",
              "    </tr>\n",
              "    <tr>\n",
              "      <th>502</th>\n",
              "      <td>0.0</td>\n",
              "      <td>0.0</td>\n",
              "      <td>0.573</td>\n",
              "      <td>6.120</td>\n",
              "      <td>2.2875</td>\n",
              "      <td>1.0</td>\n",
              "      <td>273.0</td>\n",
              "      <td>21.0</td>\n",
              "      <td>396.90</td>\n",
              "      <td>9.08</td>\n",
              "    </tr>\n",
              "    <tr>\n",
              "      <th>31</th>\n",
              "      <td>0.0</td>\n",
              "      <td>0.0</td>\n",
              "      <td>0.538</td>\n",
              "      <td>6.072</td>\n",
              "      <td>4.1750</td>\n",
              "      <td>4.0</td>\n",
              "      <td>307.0</td>\n",
              "      <td>21.0</td>\n",
              "      <td>376.73</td>\n",
              "      <td>13.04</td>\n",
              "    </tr>\n",
              "    <tr>\n",
              "      <th>315</th>\n",
              "      <td>0.0</td>\n",
              "      <td>0.0</td>\n",
              "      <td>0.544</td>\n",
              "      <td>5.705</td>\n",
              "      <td>3.9450</td>\n",
              "      <td>4.0</td>\n",
              "      <td>304.0</td>\n",
              "      <td>18.4</td>\n",
              "      <td>396.42</td>\n",
              "      <td>11.50</td>\n",
              "    </tr>\n",
              "  </tbody>\n",
              "</table>\n",
              "</div>"
            ],
            "text/plain": [
              "       ZN  CHAS    NOX     RM     DIS  RAD    TAX  PTRATIO       B  LSTAT\n",
              "198  80.0   0.0  0.404  7.274  7.3090  2.0  329.0     12.6  392.20   6.62\n",
              "229   0.0   0.0  0.504  6.552  3.3751  8.0  307.0     17.4  380.34   3.76\n",
              "502   0.0   0.0  0.573  6.120  2.2875  1.0  273.0     21.0  396.90   9.08\n",
              "31    0.0   0.0  0.538  6.072  4.1750  4.0  307.0     21.0  376.73  13.04\n",
              "315   0.0   0.0  0.544  5.705  3.9450  4.0  304.0     18.4  396.42  11.50"
            ]
          },
          "metadata": {
            "tags": []
          },
          "execution_count": 140
        }
      ]
    },
    {
      "cell_type": "markdown",
      "metadata": {
        "id": "fEPC-45kxVt2"
      },
      "source": [
        "### **Model fitting and evaluation after features reduction**"
      ]
    },
    {
      "cell_type": "code",
      "metadata": {
        "colab": {
          "base_uri": "https://localhost:8080/"
        },
        "id": "VwYrSIp_peVB",
        "outputId": "7e52e560-b0a4-4722-b201-33a6e0f5ea37"
      },
      "source": [
        "# Fit model on data after removing features\r\n",
        "model.fit(x_train_drop_col,y_train)"
      ],
      "execution_count": 141,
      "outputs": [
        {
          "output_type": "execute_result",
          "data": {
            "text/plain": [
              "LinearRegression(copy_X=True, fit_intercept=True, n_jobs=None, normalize=False)"
            ]
          },
          "metadata": {
            "tags": []
          },
          "execution_count": 141
        }
      ]
    },
    {
      "cell_type": "code",
      "metadata": {
        "id": "jWxcCpZVqoR-"
      },
      "source": [
        "# Predict test data after data cleaning\r\n",
        "y_pred = model.predict(x_test_drop_col)"
      ],
      "execution_count": 142,
      "outputs": []
    },
    {
      "cell_type": "code",
      "metadata": {
        "colab": {
          "base_uri": "https://localhost:8080/"
        },
        "id": "bhoTIE5trI5W",
        "outputId": "8741322a-0c45-4eab-e1ef-983d956e34f3"
      },
      "source": [
        "'''\r\n",
        "Print 'mean square error and r2 score' after features cleaning to check either removal of features effect the \r\n",
        "performance of model or not\r\n",
        "'''\r\n",
        "print('Mean Squre Error:\\n',mean_squared_error(y_test, y_pred), '\\n', '-' *70)\r\n",
        "\r\n",
        "print('R2 Score:\\n',r2_score(y_test, y_pred))"
      ],
      "execution_count": 143,
      "outputs": [
        {
          "output_type": "stream",
          "text": [
            "Mean Squre Error:\n",
            " 29.507222928829812 \n",
            " ----------------------------------------------------------------------\n",
            "R2 Score:\n",
            " 0.691364953026213\n"
          ],
          "name": "stdout"
        }
      ]
    },
    {
      "cell_type": "markdown",
      "metadata": {
        "id": "BnFpX3LDx_cI"
      },
      "source": [
        "### **Visualization of difference between ground truth and predicted values**"
      ]
    },
    {
      "cell_type": "code",
      "metadata": {
        "colab": {
          "base_uri": "https://localhost:8080/",
          "height": 621
        },
        "id": "xVePIxZczSvY",
        "outputId": "c2d40045-be72-4641-9b6a-4dd51cd336b7"
      },
      "source": [
        "# Plot figure\r\n",
        "plt.figure(figsize=(12,10))\r\n",
        "\r\n",
        "# Specify the limit of graph x-axis\r\n",
        "test_indexes = [text_index for text_index in range(len(y_test))]\r\n",
        "\r\n",
        "# plotting the x and y axis with color and label\r\n",
        "plt.plot(test_indexes, y_test, c= 'g', label= 'Ground truth values')\r\n",
        "\r\n",
        "# plotting the x and y axis with color and label\r\n",
        "plt.plot(test_indexes, y_pred, c='r', label= 'Predicted values')\r\n",
        "\r\n",
        "# Title at x-axis\r\n",
        "plt.xlabel('Indexes')\r\n",
        "\r\n",
        "# Title at y-axis\r\n",
        "plt.ylabel('Price')\r\n",
        "\r\n",
        "# Plot title\r\n",
        "plt.title('Price ground truth and predicted values')\r\n",
        "\r\n",
        "# Labels with style/color identification\r\n",
        "plt.legend(loc='best')\r\n",
        "\r\n",
        "plt.show()"
      ],
      "execution_count": 144,
      "outputs": [
        {
          "output_type": "display_data",
          "data": {
            "image/png": "[encoded data removed]",
            "text/plain": [
              "<Figure size 864x720 with 1 Axes>"
            ]
          },
          "metadata": {
            "tags": [],
            "needs_background": "light"
          }
        }
      ]
    },
    {
      "cell_type": "markdown",
      "metadata": {
        "id": "59k25thz0fMR"
      },
      "source": [
        "### **Cross Validation**\r\n",
        "Cross-validation is a resampling procedure used to evaluate machine learning models on a limited data sample."
      ]
    },
    {
      "cell_type": "code",
      "metadata": {
        "id": "W0SoGKuuBS8h",
        "colab": {
          "base_uri": "https://localhost:8080/"
        },
        "outputId": "de6a22cd-d5e8-4a8d-d559-a755d9f32190"
      },
      "source": [
        "# k-fold CV \r\n",
        "scores = cross_val_score(model, x_train, y_train,  cv=10)\r\n",
        "scores "
      ],
      "execution_count": 150,
      "outputs": [
        {
          "output_type": "execute_result",
          "data": {
            "text/plain": [
              "array([0.67553322, 0.51870721, 0.79052857, 0.85142293, 0.7069984 ,\n",
              "       0.83035257, 0.62495195, 0.86423447, 0.57779804, 0.68267564])"
            ]
          },
          "metadata": {
            "tags": []
          },
          "execution_count": 150
        }
      ]
    },
    {
      "cell_type": "markdown",
      "metadata": {
        "id": "FD6bNgWbIk8O"
      },
      "source": [
        "### **Reference:**\n",
        "\n",
        "[Predict Boston House Prices Using Python & Linear Regression (Video)](https://www.youtube.com/watch?v=gOXoFDrseis)\n",
        "\n",
        "[Feature Ranking with Recursive Feature Elimination in Scikit-Learn](https://heartbeat.fritz.ai/feature-ranking-with-recursive-feature-elimination-3e22db639208)\n"
      ]
    },
    {
      "cell_type": "markdown",
      "metadata": {
        "id": "38O8N73pzBV_"
      },
      "source": [
        "### **Helping material:**\r\n",
        "\r\n",
        "[Simple linear Regression](https://slideplayer.com/slide/5109869/)\r\n",
        "\r\n",
        "[Linear Regression](https://www.slideshare.net/dessybudiyanti/simple-linier-regression)\r\n",
        "\r\n",
        "[Predict Boston House Prices Using Python & Linear Regression](https://levelup.gitconnected.com/predict-boston-house-prices-using-python-linear-regression-90469e0a341)\r\n",
        "\r\n",
        "[Statistics how to](https://www.statisticshowto.com/probability-and-statistics/regression-analysis/find-a-linear-regression-equation/#:~:text=Linear%20regression%20is%20a%20way%20to%20model%20the%20relationship%20between%20two%20variables.&text=The%20equation%20has%20the%20form,a%20is%20the%20y%2Dintercept.)\r\n",
        "\r\n",
        "[Advantages and Disadvantages of Linear Regression](https://www.geeksforgeeks.org/ml-advantages-and-disadvantages-of-linear-regression/)\r\n",
        "\r\n",
        "[The Disadvantages of Linear Regression](https://sciencing.com/disadvantages-linear-regression-8562780.html)\r\n",
        "\r\n",
        "[RFE](https://scikit-learn.org/stable/modules/generated/sklearn.feature_selection.RFE.html#sklearn.feature_selection.RFE.get_params)"
      ]
    },
    {
      "cell_type": "code",
      "metadata": {
        "id": "n_9wXkhC08bn"
      },
      "source": [
        ""
      ],
      "execution_count": null,
      "outputs": []
    }
  ]
}